{
 "cells": [
  {
   "cell_type": "code",
   "execution_count": 1,
   "id": "282d4332",
   "metadata": {},
   "outputs": [],
   "source": [
    "import pandas as pd\n",
    "import numpy as np\n",
    "import scipy.stats as stats\n",
    "import plotly.express as px"
   ]
  },
  {
   "cell_type": "code",
   "execution_count": 2,
   "id": "e0dc0be4",
   "metadata": {
    "collapsed": true
   },
   "outputs": [
    {
     "data": {
      "text/html": [
       "<div>\n",
       "<style scoped>\n",
       "    .dataframe tbody tr th:only-of-type {\n",
       "        vertical-align: middle;\n",
       "    }\n",
       "\n",
       "    .dataframe tbody tr th {\n",
       "        vertical-align: top;\n",
       "    }\n",
       "\n",
       "    .dataframe thead th {\n",
       "        text-align: right;\n",
       "    }\n",
       "</style>\n",
       "<table border=\"1\" class=\"dataframe\">\n",
       "  <thead>\n",
       "    <tr style=\"text-align: right;\">\n",
       "      <th></th>\n",
       "      <th>day</th>\n",
       "      <th>acc_id</th>\n",
       "      <th>char_id</th>\n",
       "      <th>server</th>\n",
       "      <th>playtime</th>\n",
       "      <th>npc_kill</th>\n",
       "      <th>solo_exp</th>\n",
       "      <th>party_exp</th>\n",
       "      <th>quest_exp</th>\n",
       "      <th>boss_monster</th>\n",
       "      <th>death</th>\n",
       "      <th>revive</th>\n",
       "      <th>exp_recovery</th>\n",
       "      <th>fishing</th>\n",
       "      <th>private_shop</th>\n",
       "      <th>game_money_change</th>\n",
       "      <th>enchant_count</th>\n",
       "    </tr>\n",
       "  </thead>\n",
       "  <tbody>\n",
       "    <tr>\n",
       "      <th>0</th>\n",
       "      <td>1</td>\n",
       "      <td>75001</td>\n",
       "      <td>397380</td>\n",
       "      <td>aa</td>\n",
       "      <td>1.459994</td>\n",
       "      <td>0.000000</td>\n",
       "      <td>0.000000</td>\n",
       "      <td>0.000000</td>\n",
       "      <td>0.000000</td>\n",
       "      <td>0</td>\n",
       "      <td>0.00000</td>\n",
       "      <td>0.000000</td>\n",
       "      <td>0.0</td>\n",
       "      <td>0.0</td>\n",
       "      <td>1.119053</td>\n",
       "      <td>0.033934</td>\n",
       "      <td>0.0</td>\n",
       "    </tr>\n",
       "    <tr>\n",
       "      <th>1</th>\n",
       "      <td>1</td>\n",
       "      <td>75001</td>\n",
       "      <td>216231</td>\n",
       "      <td>aa</td>\n",
       "      <td>0.286785</td>\n",
       "      <td>2.244221</td>\n",
       "      <td>0.046989</td>\n",
       "      <td>0.000000</td>\n",
       "      <td>0.000000</td>\n",
       "      <td>0</td>\n",
       "      <td>0.00000</td>\n",
       "      <td>0.000000</td>\n",
       "      <td>0.0</td>\n",
       "      <td>0.0</td>\n",
       "      <td>0.000000</td>\n",
       "      <td>-0.013933</td>\n",
       "      <td>0.0</td>\n",
       "    </tr>\n",
       "    <tr>\n",
       "      <th>2</th>\n",
       "      <td>1</td>\n",
       "      <td>75711</td>\n",
       "      <td>308769</td>\n",
       "      <td>aa</td>\n",
       "      <td>1.049964</td>\n",
       "      <td>2.951697</td>\n",
       "      <td>0.321164</td>\n",
       "      <td>0.166247</td>\n",
       "      <td>0.003463</td>\n",
       "      <td>1</td>\n",
       "      <td>0.24537</td>\n",
       "      <td>0.246819</td>\n",
       "      <td>0.0</td>\n",
       "      <td>0.0</td>\n",
       "      <td>0.000000</td>\n",
       "      <td>-0.001983</td>\n",
       "      <td>0.0</td>\n",
       "    </tr>\n",
       "  </tbody>\n",
       "</table>\n",
       "</div>"
      ],
      "text/plain": [
       "   day  acc_id  char_id server  playtime  npc_kill  solo_exp  party_exp  \\\n",
       "0    1   75001   397380     aa  1.459994  0.000000  0.000000   0.000000   \n",
       "1    1   75001   216231     aa  0.286785  2.244221  0.046989   0.000000   \n",
       "2    1   75711   308769     aa  1.049964  2.951697  0.321164   0.166247   \n",
       "\n",
       "   quest_exp  boss_monster    death    revive  exp_recovery  fishing  \\\n",
       "0   0.000000             0  0.00000  0.000000           0.0      0.0   \n",
       "1   0.000000             0  0.00000  0.000000           0.0      0.0   \n",
       "2   0.003463             1  0.24537  0.246819           0.0      0.0   \n",
       "\n",
       "   private_shop  game_money_change  enchant_count  \n",
       "0      1.119053           0.033934            0.0  \n",
       "1      0.000000          -0.013933            0.0  \n",
       "2      0.000000          -0.001983            0.0  "
      ]
     },
     "execution_count": 2,
     "metadata": {},
     "output_type": "execute_result"
    }
   ],
   "source": [
    "# 유저 행동 데이터 처리\n",
    "df_act = pd.read_csv('29_Lineage/activity.csv')\n",
    "df_act.head(3)"
   ]
  },
  {
   "cell_type": "code",
   "execution_count": 4,
   "id": "d944f6a6",
   "metadata": {},
   "outputs": [],
   "source": [
    "# 유저 ID 별 캐릭터 수 / 총 플레이 시간 계산\n",
    "df_act['char_num'] = 1\n",
    "p1 = df_act.pivot_table(index='acc_id', values=['char_num','playtime'],\n",
    "                        aggfunc='sum').reset_index()"
   ]
  },
  {
   "cell_type": "code",
   "execution_count": 5,
   "id": "5ac3f7be",
   "metadata": {},
   "outputs": [],
   "source": [
    "# 총 획득 경험치\n",
    "df_act['total_exp'] = df_act['solo_exp'] + df_act['party_exp'] + df_act['quest_exp']"
   ]
  },
  {
   "cell_type": "code",
   "execution_count": 13,
   "id": "ff6f5075",
   "metadata": {},
   "outputs": [
    {
     "data": {
      "text/plain": [
       "(40000, 5)"
      ]
     },
     "execution_count": 13,
     "metadata": {},
     "output_type": "execute_result"
    }
   ],
   "source": [
    "# 유저 ID 별 캐릭터 당 평균 플레이 시간 / 평균 NPC 킬수 등...\n",
    "p2 = df_act.pivot_table(index='acc_id',\n",
    "                  values=['npc_kill','total_exp','death','revive',\n",
    "                         'enchant_count'],\n",
    "                  aggfunc='mean')\n",
    "p2.shape"
   ]
  },
  {
   "cell_type": "code",
   "execution_count": 7,
   "id": "dba3e510",
   "metadata": {},
   "outputs": [],
   "source": [
    "# 전투 데이터\n",
    "df_combat = pd.read_csv('29_Lineage/combat.csv')"
   ]
  },
  {
   "cell_type": "code",
   "execution_count": 14,
   "id": "ed8cf86a",
   "metadata": {},
   "outputs": [
    {
     "data": {
      "text/plain": [
       "(40000, 3)"
      ]
     },
     "execution_count": 14,
     "metadata": {},
     "output_type": "execute_result"
    }
   ],
   "source": [
    "p3 = df_combat.pivot_table(index='acc_id', values='level',\n",
    "                     aggfunc=['min','max']).reset_index()\n",
    "p3.columns = ['acc_id', 'level_min','level_max']\n",
    "p3.shape"
   ]
  },
  {
   "cell_type": "code",
   "execution_count": 28,
   "id": "72ad281d",
   "metadata": {},
   "outputs": [
    {
     "data": {
      "text/plain": [
       "Index(['day', 'acc_id', 'char_id', 'server', 'class', 'level', 'pledge_cnt',\n",
       "       'random_attacker_cnt', 'random_defender_cnt', 'temp_cnt',\n",
       "       'same_pledge_cnt', 'etc_cnt', 'num_opponent'],\n",
       "      dtype='object')"
      ]
     },
     "execution_count": 28,
     "metadata": {},
     "output_type": "execute_result"
    }
   ],
   "source": [
    "df_combat.columns"
   ]
  },
  {
   "cell_type": "code",
   "execution_count": 31,
   "id": "ed9b45fc",
   "metadata": {},
   "outputs": [
    {
     "data": {
      "text/plain": [
       "(40000, 8)"
      ]
     },
     "execution_count": 31,
     "metadata": {},
     "output_type": "execute_result"
    }
   ],
   "source": [
    "p4 = df_combat.pivot_table(index='acc_id',\n",
    "                     values=['pledge_cnt',\n",
    "       'random_attacker_cnt', 'random_defender_cnt', 'temp_cnt',\n",
    "       'same_pledge_cnt', 'etc_cnt', 'num_opponent'],\n",
    "                     aggfunc='mean').reset_index()\n",
    "p4.shape"
   ]
  },
  {
   "cell_type": "code",
   "execution_count": 32,
   "id": "0d38b447",
   "metadata": {},
   "outputs": [
    {
     "data": {
      "text/plain": [
       "Index(['acc_id', 'survival_time', 'amount_spent'], dtype='object')"
      ]
     },
     "execution_count": 32,
     "metadata": {},
     "output_type": "execute_result"
    }
   ],
   "source": [
    "# 잔존율에 대한 데이터를 불러와, 병합\n",
    "df_label = pd.read_csv('29_Lineage/label.csv')\n",
    "df_label.columns"
   ]
  },
  {
   "cell_type": "code",
   "execution_count": 33,
   "id": "388d38c7",
   "metadata": {},
   "outputs": [
    {
     "data": {
      "text/plain": [
       "(40000, 5)"
      ]
     },
     "execution_count": 33,
     "metadata": {},
     "output_type": "execute_result"
    }
   ],
   "source": [
    "# 앞서 처리한 유저의 행동/전투 데이터의 병합\n",
    "m1 = pd.merge(df_label, p1, on='acc_id', how='inner')\n",
    "m1.shape"
   ]
  },
  {
   "cell_type": "code",
   "execution_count": 34,
   "id": "42453fca",
   "metadata": {},
   "outputs": [
    {
     "data": {
      "text/plain": [
       "(40000, 10)"
      ]
     },
     "execution_count": 34,
     "metadata": {},
     "output_type": "execute_result"
    }
   ],
   "source": [
    "m2 = pd.merge(m1, p2, on='acc_id', how='inner')\n",
    "m2.shape"
   ]
  },
  {
   "cell_type": "code",
   "execution_count": 35,
   "id": "91af0642",
   "metadata": {},
   "outputs": [
    {
     "data": {
      "text/plain": [
       "(40000, 12)"
      ]
     },
     "execution_count": 35,
     "metadata": {},
     "output_type": "execute_result"
    }
   ],
   "source": [
    "m3 = pd.merge(m2, p3, on='acc_id', how='inner')\n",
    "m3.shape"
   ]
  },
  {
   "cell_type": "code",
   "execution_count": 36,
   "id": "e294226a",
   "metadata": {},
   "outputs": [
    {
     "data": {
      "text/plain": [
       "(40000, 19)"
      ]
     },
     "execution_count": 36,
     "metadata": {},
     "output_type": "execute_result"
    }
   ],
   "source": [
    "df1 = pd.merge(m3, p4, on='acc_id', how='inner')\n",
    "df1.shape"
   ]
  },
  {
   "cell_type": "code",
   "execution_count": 37,
   "id": "ce7c4d83",
   "metadata": {},
   "outputs": [],
   "source": [
    "# 잔존율에 대한 Y값 계산\n",
    "Y = df1['survival_time']/64\n",
    "X = df1.drop(columns=['survival_time','acc_id'])"
   ]
  },
  {
   "cell_type": "code",
   "execution_count": 38,
   "id": "3b7561dc",
   "metadata": {},
   "outputs": [],
   "source": [
    "# 학습데이터 검증 데이터 분할\n",
    "from sklearn.model_selection import train_test_split"
   ]
  },
  {
   "cell_type": "code",
   "execution_count": 39,
   "id": "28fab085",
   "metadata": {},
   "outputs": [],
   "source": [
    "X_train, X_test, Y_train, Y_test = train_test_split(X,Y,\n",
    "                                                   test_size=0.3, random_state=1234)"
   ]
  },
  {
   "cell_type": "markdown",
   "id": "6acfb865",
   "metadata": {},
   "source": [
    "# 신경망 하이퍼파라미터 튜닝\n",
    "\n",
    "- 신경망 알고리즘은 강력한 확장성과 유연함 큰 장점이나, 하이퍼파라미터(노드, 레이어, 활성함수, 최적화 전략)에 대한 튜닝을 수행할 때, 고려할 사항이 많음\n",
    "- 머신러닝의 하이퍼파라미터 튜닝했던 것 같이 딥러닝의 여러 하이퍼파라미터를 튜닝"
   ]
  },
  {
   "cell_type": "code",
   "execution_count": 40,
   "id": "6319b132",
   "metadata": {},
   "outputs": [],
   "source": [
    "# 케라스 튜너\n",
    "# !pip install keras-tuner"
   ]
  },
  {
   "cell_type": "code",
   "execution_count": 41,
   "id": "8288d37e",
   "metadata": {},
   "outputs": [],
   "source": [
    "from keras.models import Sequential\n",
    "from keras.layers import Dense\n",
    "from kerastuner.tuners import RandomSearch"
   ]
  },
  {
   "cell_type": "code",
   "execution_count": 43,
   "id": "09402281",
   "metadata": {
    "collapsed": true
   },
   "outputs": [
    {
     "name": "stdout",
     "output_type": "stream",
     "text": [
      "Epoch 1/5\n",
      "\u001b[1m613/613\u001b[0m \u001b[32m━━━━━━━━━━━━━━━━━━━━\u001b[0m\u001b[37m\u001b[0m \u001b[1m1s\u001b[0m 659us/step - accuracy: 0.5473 - loss: 0.5378 - val_accuracy: 0.5124 - val_loss: 0.5341\n",
      "Epoch 2/5\n",
      "\u001b[1m613/613\u001b[0m \u001b[32m━━━━━━━━━━━━━━━━━━━━\u001b[0m\u001b[37m\u001b[0m \u001b[1m0s\u001b[0m 528us/step - accuracy: 0.5376 - loss: 0.5150 - val_accuracy: 0.5331 - val_loss: 0.5448\n",
      "Epoch 3/5\n",
      "\u001b[1m613/613\u001b[0m \u001b[32m━━━━━━━━━━━━━━━━━━━━\u001b[0m\u001b[37m\u001b[0m \u001b[1m0s\u001b[0m 530us/step - accuracy: 0.5318 - loss: 0.5144 - val_accuracy: 0.5152 - val_loss: 0.5194\n",
      "Epoch 4/5\n",
      "\u001b[1m613/613\u001b[0m \u001b[32m━━━━━━━━━━━━━━━━━━━━\u001b[0m\u001b[37m\u001b[0m \u001b[1m0s\u001b[0m 522us/step - accuracy: 0.5276 - loss: 0.5079 - val_accuracy: 0.5219 - val_loss: 0.5121\n",
      "Epoch 5/5\n",
      "\u001b[1m613/613\u001b[0m \u001b[32m━━━━━━━━━━━━━━━━━━━━\u001b[0m\u001b[37m\u001b[0m \u001b[1m0s\u001b[0m 600us/step - accuracy: 0.5322 - loss: 0.5022 - val_accuracy: 0.5208 - val_loss: 0.5100\n"
     ]
    },
    {
     "data": {
      "text/plain": [
       "<keras.src.callbacks.history.History at 0x16ae62710>"
      ]
     },
     "execution_count": 43,
     "metadata": {},
     "output_type": "execute_result"
    }
   ],
   "source": [
    "model1 = Sequential()\n",
    "model1. add(Dense(16, activation='relu', input_shape=(17, )))\n",
    "model1.add( Dense(32, activation='relu'))\n",
    "model1.add( Dense(32, activation='relu'))\n",
    "model1.add( Dense(32, activation='relu'))\n",
    "model1.add( Dense(1, activation='sigmoid'))\n",
    "\n",
    "model1.compile(optimizer='adam', loss='binary_crossentropy',\n",
    "              metrics=['accuracy'])\n",
    "model1.fit(X_train, Y_train, epochs=5, validation_split=0.3)"
   ]
  },
  {
   "cell_type": "code",
   "execution_count": 66,
   "id": "16aa0acf",
   "metadata": {},
   "outputs": [],
   "source": [
    "# 하이퍼 파라미터 튜닝할 모델 함수를 구성\n",
    "def build_model(hp):\n",
    "    model = Sequential()\n",
    "    # Input Layer 구성\n",
    "    # Node수(16개 노드로 시작해 128개 노드까지 16개씩 증가) / \n",
    "    # 활성함수를 선택 (relu / tanh/ sigmoid)\n",
    "    model.add(Dense(units=hp.Int('units_input',\n",
    "                                min_value=16,\n",
    "                                max_value=128,\n",
    "                                step=16),\n",
    "                   activation=hp.Choice('activation_input',\n",
    "                                       values=['relu','tanh','sigmoid']),\n",
    "                   input_shape=(17, )))\n",
    "    \n",
    "    # 중간 은닉층\n",
    "    for i in range(hp.Int('num_layer', min_value=5, max_value=10)):\n",
    "        model.add(Dense(units=hp.Int(f'units_{i}',\n",
    "                                    min_value=16, max_value=128,\n",
    "                                    step=16),\n",
    "                       activation=hp.Choice(f'activation_{i}',\n",
    "                                           values=['relu','tanh','sigmoid'])))\n",
    "    # 최종 출력층\n",
    "    model.add(Dense(1, activation='sigmoid'))\n",
    "    model.compile(optimizer='adam', loss='binary_crossentropy',\n",
    "                 metrics=['accuracy'])\n",
    "    return model"
   ]
  },
  {
   "cell_type": "markdown",
   "id": "c6547fc9",
   "metadata": {},
   "source": [
    "- hp.Int() : I가 대문자 / 케라스의 하이퍼파라미터 튜너\n",
    "    - 특정 수의 범위를 지정하여 하이퍼파라미터를 세팅"
   ]
  },
  {
   "cell_type": "code",
   "execution_count": 67,
   "id": "51ceb6bb",
   "metadata": {},
   "outputs": [
    {
     "name": "stdout",
     "output_type": "stream",
     "text": [
      "Reloading Tuner from /Users/sinhyelim/keras_DL_hyperlist/tuner0.json\n"
     ]
    }
   ],
   "source": [
    "# 튜너 실행\n",
    "# 체크 포인트 파일 경로 설정 (하이퍼파라미터의 정보를 중간에 저장할 공간지정)\n",
    "# 한글 경로가 있으면, 작동이 안될 수 있음\n",
    "callback_path = '/Users/sinhyelim/'\n",
    "\n",
    "tuner = RandomSearch(build_model,\n",
    "                     objective='val_accuracy',\n",
    "                    max_trials=5, # 총 튜닝 횟수\n",
    "                    directory = callback_path,\n",
    "                    project_name = 'keras_DL_hyperlist',\n",
    "                    overwrite = False)\n",
    "tuner.search(X_train, Y_train, epochs=10, validation_split=0.3)"
   ]
  },
  {
   "cell_type": "code",
   "execution_count": 68,
   "id": "6689d79d",
   "metadata": {},
   "outputs": [],
   "source": [
    "# 튜닝된 모델 중에서 최상의 성능을 보이는 하이퍼파라미터 세트를 확인\n",
    "best_model = tuner.get_best_hyperparameters()[0]"
   ]
  },
  {
   "cell_type": "code",
   "execution_count": 70,
   "id": "2a13b25c",
   "metadata": {
    "collapsed": true
   },
   "outputs": [
    {
     "name": "stdout",
     "output_type": "stream",
     "text": [
      "입력 Layer의 Node 수 : 16\n",
      "입력 Layer의 활성함수 : sigmoid\n",
      "Hidden Layer의 수 : 7\n",
      "0번째 Layer의 Node :  64\n",
      "0번째 Layer의 활성함수 :  tanh\n",
      "1번째 Layer의 Node :  112\n",
      "1번째 Layer의 활성함수 :  relu\n",
      "2번째 Layer의 Node :  48\n",
      "2번째 Layer의 활성함수 :  tanh\n",
      "3번째 Layer의 Node :  80\n",
      "3번째 Layer의 활성함수 :  sigmoid\n",
      "4번째 Layer의 Node :  128\n",
      "4번째 Layer의 활성함수 :  relu\n",
      "5번째 Layer의 Node :  16\n",
      "5번째 Layer의 활성함수 :  relu\n",
      "6번째 Layer의 Node :  16\n",
      "6번째 Layer의 활성함수 :  relu\n"
     ]
    }
   ],
   "source": [
    "# 최상의 모델의 신경망 구조를 확인\n",
    "print('입력 Layer의 Node 수 :' ,best_model.get('units_input'))\n",
    "print('입력 Layer의 활성함수 :' ,best_model.get('activation_input'))\n",
    "print('Hidden Layer의 수 :' ,best_model.get('num_layer'))\n",
    "\n",
    "for i in range(best_model.get('num_layer')):\n",
    "    print(f'{i}번째 Layer의 Node : ', best_model.get(f'units_{i}'))\n",
    "    print(f'{i}번째 Layer의 활성함수 : ', best_model.get(f'activation_{i}'))"
   ]
  },
  {
   "cell_type": "code",
   "execution_count": 71,
   "id": "7cb68804",
   "metadata": {},
   "outputs": [
    {
     "name": "stderr",
     "output_type": "stream",
     "text": [
      "/Users/sinhyelim/anaconda3/lib/python3.11/site-packages/keras/src/layers/core/dense.py:85: UserWarning:\n",
      "\n",
      "Do not pass an `input_shape`/`input_dim` argument to a layer. When using Sequential models, prefer using an `Input(shape)` object as the first layer in the model instead.\n",
      "\n"
     ]
    },
    {
     "data": {
      "text/plain": [
       "<Sequential name=sequential_1, built=True>"
      ]
     },
     "execution_count": 71,
     "metadata": {},
     "output_type": "execute_result"
    }
   ],
   "source": [
    "# 최적의 하이퍼파라미터를 도출한 모델을 구성\n",
    "best_model_NN = tuner.hypermodel.build(best_model)\n",
    "best_model_NN"
   ]
  },
  {
   "cell_type": "markdown",
   "id": "c485c525",
   "metadata": {},
   "source": [
    "- **Early Stopping** : 여러 Epoch 과정에서 검증 데이터 Validation Set에 대한 성능이 더이상 개선되지 않을 때, 조기에 학습을 종료"
   ]
  },
  {
   "cell_type": "code",
   "execution_count": 72,
   "id": "c79ebd79",
   "metadata": {},
   "outputs": [],
   "source": [
    "from keras import callbacks"
   ]
  },
  {
   "cell_type": "code",
   "execution_count": 73,
   "id": "b57365f7",
   "metadata": {},
   "outputs": [],
   "source": [
    "early_stop = callbacks.EarlyStopping(patience=5,\n",
    "                                     restore_best_weights=True)\n",
    "# patience = 5 :5회이상 Validation Set의 성능이 개선되지 않는다면, 학습을 종료\n",
    "# restore_best_weight : 조기 종료가 발생한 뒤에 최고성능을 보였던 Weight 값을\n",
    "#                       모델에 유지"
   ]
  },
  {
   "cell_type": "code",
   "execution_count": 74,
   "id": "bb626b14",
   "metadata": {
    "collapsed": true
   },
   "outputs": [
    {
     "name": "stdout",
     "output_type": "stream",
     "text": [
      "Epoch 1/50\n",
      "\u001b[1m613/613\u001b[0m \u001b[32m━━━━━━━━━━━━━━━━━━━━\u001b[0m\u001b[37m\u001b[0m \u001b[1m2s\u001b[0m 1ms/step - accuracy: 0.5333 - loss: 0.6332 - val_accuracy: 0.5401 - val_loss: 0.6053\n",
      "Epoch 2/50\n",
      "\u001b[1m613/613\u001b[0m \u001b[32m━━━━━━━━━━━━━━━━━━━━\u001b[0m\u001b[37m\u001b[0m \u001b[1m1s\u001b[0m 889us/step - accuracy: 0.5510 - loss: 0.5979 - val_accuracy: 0.5401 - val_loss: 0.6051\n",
      "Epoch 3/50\n",
      "\u001b[1m613/613\u001b[0m \u001b[32m━━━━━━━━━━━━━━━━━━━━\u001b[0m\u001b[37m\u001b[0m \u001b[1m1s\u001b[0m 882us/step - accuracy: 0.5545 - loss: 0.5961 - val_accuracy: 0.5401 - val_loss: 0.6053\n",
      "Epoch 4/50\n",
      "\u001b[1m613/613\u001b[0m \u001b[32m━━━━━━━━━━━━━━━━━━━━\u001b[0m\u001b[37m\u001b[0m \u001b[1m1s\u001b[0m 931us/step - accuracy: 0.5498 - loss: 0.6007 - val_accuracy: 0.5401 - val_loss: 0.6065\n",
      "Epoch 5/50\n",
      "\u001b[1m613/613\u001b[0m \u001b[32m━━━━━━━━━━━━━━━━━━━━\u001b[0m\u001b[37m\u001b[0m \u001b[1m1s\u001b[0m 915us/step - accuracy: 0.5553 - loss: 0.5958 - val_accuracy: 0.5401 - val_loss: 0.6054\n",
      "Epoch 6/50\n",
      "\u001b[1m613/613\u001b[0m \u001b[32m━━━━━━━━━━━━━━━━━━━━\u001b[0m\u001b[37m\u001b[0m \u001b[1m1s\u001b[0m 889us/step - accuracy: 0.5535 - loss: 0.5975 - val_accuracy: 0.5401 - val_loss: 0.6050\n",
      "Epoch 7/50\n",
      "\u001b[1m613/613\u001b[0m \u001b[32m━━━━━━━━━━━━━━━━━━━━\u001b[0m\u001b[37m\u001b[0m \u001b[1m1s\u001b[0m 890us/step - accuracy: 0.5513 - loss: 0.5976 - val_accuracy: 0.5401 - val_loss: 0.6050\n",
      "Epoch 8/50\n",
      "\u001b[1m613/613\u001b[0m \u001b[32m━━━━━━━━━━━━━━━━━━━━\u001b[0m\u001b[37m\u001b[0m \u001b[1m1s\u001b[0m 883us/step - accuracy: 0.5590 - loss: 0.5920 - val_accuracy: 0.5401 - val_loss: 0.6051\n",
      "Epoch 9/50\n",
      "\u001b[1m613/613\u001b[0m \u001b[32m━━━━━━━━━━━━━━━━━━━━\u001b[0m\u001b[37m\u001b[0m \u001b[1m1s\u001b[0m 912us/step - accuracy: 0.5511 - loss: 0.5993 - val_accuracy: 0.5401 - val_loss: 0.6051\n",
      "Epoch 10/50\n",
      "\u001b[1m613/613\u001b[0m \u001b[32m━━━━━━━━━━━━━━━━━━━━\u001b[0m\u001b[37m\u001b[0m \u001b[1m1s\u001b[0m 890us/step - accuracy: 0.5554 - loss: 0.5962 - val_accuracy: 0.5401 - val_loss: 0.6051\n",
      "Epoch 11/50\n",
      "\u001b[1m613/613\u001b[0m \u001b[32m━━━━━━━━━━━━━━━━━━━━\u001b[0m\u001b[37m\u001b[0m \u001b[1m1s\u001b[0m 922us/step - accuracy: 0.5517 - loss: 0.5941 - val_accuracy: 0.5401 - val_loss: 0.6051\n"
     ]
    },
    {
     "data": {
      "text/plain": [
       "<keras.src.callbacks.history.History at 0x2b9f001d0>"
      ]
     },
     "execution_count": 74,
     "metadata": {},
     "output_type": "execute_result"
    }
   ],
   "source": [
    "# 모델 훈련 실시\n",
    "best_model_NN.fit(X_train, Y_train, epochs=50, validation_split=0.3,\n",
    "                 callbacks=early_stop)"
   ]
  },
  {
   "cell_type": "code",
   "execution_count": 75,
   "id": "10c9887d",
   "metadata": {},
   "outputs": [],
   "source": [
    "def threshold_func(result):\n",
    "    if result > 0.5:\n",
    "        return 1\n",
    "    return 0"
   ]
  },
  {
   "cell_type": "code",
   "execution_count": 77,
   "id": "6b610235",
   "metadata": {},
   "outputs": [
    {
     "name": "stdout",
     "output_type": "stream",
     "text": [
      "\u001b[1m875/875\u001b[0m \u001b[32m━━━━━━━━━━━━━━━━━━━━\u001b[0m\u001b[37m\u001b[0m \u001b[1m0s\u001b[0m 342us/step\n",
      "\u001b[1m375/375\u001b[0m \u001b[32m━━━━━━━━━━━━━━━━━━━━\u001b[0m\u001b[37m\u001b[0m \u001b[1m0s\u001b[0m 336us/step\n"
     ]
    }
   ],
   "source": [
    "Y_train_pred = pd.Series(best_model_NN.predict(X_train).flatten()).apply(threshold_func)\n",
    "Y_test_pred = pd.Series(best_model_NN.predict(X_test).flatten()).apply(threshold_func)"
   ]
  },
  {
   "cell_type": "code",
   "execution_count": 78,
   "id": "5d1700bd",
   "metadata": {},
   "outputs": [],
   "source": [
    "from sklearn.metrics import classification_report"
   ]
  },
  {
   "cell_type": "code",
   "execution_count": 79,
   "id": "23bd1ab6",
   "metadata": {
    "collapsed": true
   },
   "outputs": [
    {
     "name": "stdout",
     "output_type": "stream",
     "text": [
      "              precision    recall  f1-score   support\n",
      "\n",
      "           0       0.00      0.00      0.00      9213\n",
      "           1       0.67      1.00      0.80     18787\n",
      "\n",
      "    accuracy                           0.67     28000\n",
      "   macro avg       0.34      0.50      0.40     28000\n",
      "weighted avg       0.45      0.67      0.54     28000\n",
      "\n"
     ]
    },
    {
     "name": "stderr",
     "output_type": "stream",
     "text": [
      "/Users/sinhyelim/anaconda3/lib/python3.11/site-packages/sklearn/metrics/_classification.py:1509: UndefinedMetricWarning:\n",
      "\n",
      "Precision is ill-defined and being set to 0.0 in labels with no predicted samples. Use `zero_division` parameter to control this behavior.\n",
      "\n",
      "/Users/sinhyelim/anaconda3/lib/python3.11/site-packages/sklearn/metrics/_classification.py:1509: UndefinedMetricWarning:\n",
      "\n",
      "Precision is ill-defined and being set to 0.0 in labels with no predicted samples. Use `zero_division` parameter to control this behavior.\n",
      "\n",
      "/Users/sinhyelim/anaconda3/lib/python3.11/site-packages/sklearn/metrics/_classification.py:1509: UndefinedMetricWarning:\n",
      "\n",
      "Precision is ill-defined and being set to 0.0 in labels with no predicted samples. Use `zero_division` parameter to control this behavior.\n",
      "\n"
     ]
    }
   ],
   "source": [
    "print(classification_report(Y_train.apply(threshold_func), Y_train_pred))"
   ]
  },
  {
   "cell_type": "code",
   "execution_count": 80,
   "id": "74bb6ddd",
   "metadata": {
    "collapsed": true
   },
   "outputs": [
    {
     "name": "stdout",
     "output_type": "stream",
     "text": [
      "              precision    recall  f1-score   support\n",
      "\n",
      "           0       0.00      0.00      0.00      3908\n",
      "           1       0.67      1.00      0.81      8092\n",
      "\n",
      "    accuracy                           0.67     12000\n",
      "   macro avg       0.34      0.50      0.40     12000\n",
      "weighted avg       0.45      0.67      0.54     12000\n",
      "\n"
     ]
    },
    {
     "name": "stderr",
     "output_type": "stream",
     "text": [
      "/Users/sinhyelim/anaconda3/lib/python3.11/site-packages/sklearn/metrics/_classification.py:1509: UndefinedMetricWarning:\n",
      "\n",
      "Precision is ill-defined and being set to 0.0 in labels with no predicted samples. Use `zero_division` parameter to control this behavior.\n",
      "\n",
      "/Users/sinhyelim/anaconda3/lib/python3.11/site-packages/sklearn/metrics/_classification.py:1509: UndefinedMetricWarning:\n",
      "\n",
      "Precision is ill-defined and being set to 0.0 in labels with no predicted samples. Use `zero_division` parameter to control this behavior.\n",
      "\n",
      "/Users/sinhyelim/anaconda3/lib/python3.11/site-packages/sklearn/metrics/_classification.py:1509: UndefinedMetricWarning:\n",
      "\n",
      "Precision is ill-defined and being set to 0.0 in labels with no predicted samples. Use `zero_division` parameter to control this behavior.\n",
      "\n"
     ]
    }
   ],
   "source": [
    "print(classification_report(Y_test.apply(threshold_func), Y_test_pred))"
   ]
  },
  {
   "cell_type": "code",
   "execution_count": null,
   "id": "46c77666",
   "metadata": {},
   "outputs": [],
   "source": [
    "best_model_NN.save()"
   ]
  },
  {
   "cell_type": "markdown",
   "id": "cc28f524",
   "metadata": {},
   "source": [
    "# RNN Model\n",
    "\n",
    "- RNN(Recurrent Neural Network) : 순차적인(Sequence Data) 데이터를 효과적으로 처리하기 위한 딥러닝 모델 (문자열/ 시계열/ 서열)\n",
    "- 이전의 정보를 현재의 상태에 반영하여 시간에 따라 변하는 입력값에 가중치를 주어 처리"
   ]
  },
  {
   "attachments": {
    "img.png": {
     "image/png": "[encoded data removed]"
    }
   },
   "cell_type": "markdown",
   "id": "0bf443ab",
   "metadata": {},
   "source": [
    "![img.png](attachment:img.png)"
   ]
  },
  {
   "cell_type": "markdown",
   "id": "415d87aa",
   "metadata": {},
   "source": [
    "**기업 평가 데이터를 이용한 감성분석** (텍스트 마이닝)"
   ]
  },
  {
   "cell_type": "code",
   "execution_count": 129,
   "id": "eda0d8d1",
   "metadata": {
    "collapsed": true
   },
   "outputs": [
    {
     "data": {
      "text/html": [
       "<div>\n",
       "<style scoped>\n",
       "    .dataframe tbody tr th:only-of-type {\n",
       "        vertical-align: middle;\n",
       "    }\n",
       "\n",
       "    .dataframe tbody tr th {\n",
       "        vertical-align: top;\n",
       "    }\n",
       "\n",
       "    .dataframe thead th {\n",
       "        text-align: right;\n",
       "    }\n",
       "</style>\n",
       "<table border=\"1\" class=\"dataframe\">\n",
       "  <thead>\n",
       "    <tr style=\"text-align: right;\">\n",
       "      <th></th>\n",
       "      <th>Unnamed: 0</th>\n",
       "      <th>직무</th>\n",
       "      <th>재직상태</th>\n",
       "      <th>근무지</th>\n",
       "      <th>작성년도</th>\n",
       "      <th>작성월</th>\n",
       "      <th>기업한줄평</th>\n",
       "      <th>기업장점</th>\n",
       "      <th>기업단점</th>\n",
       "      <th>경영진희망사항</th>\n",
       "      <th>기업추천여부</th>\n",
       "      <th>추천수</th>\n",
       "    </tr>\n",
       "  </thead>\n",
       "  <tbody>\n",
       "    <tr>\n",
       "      <th>0</th>\n",
       "      <td>0</td>\n",
       "      <td>기획/경영</td>\n",
       "      <td>전직원</td>\n",
       "      <td>서울</td>\n",
       "      <td>2024</td>\n",
       "      <td>3</td>\n",
       "      <td>\"부서 by 부서, 팀장 by 팀장으로 근무환경이 달라지는 곳\"</td>\n",
       "      <td>사람 by 사람이 심하겠지만, 배울 점이 많은 분들 밑에서 일했습니다. 휴게실, 점...</td>\n",
       "      <td>사람 by 사람이 심한만큼, 배울 점이 많은 분들만 있는 것은 아니었습니다. 업무량...</td>\n",
       "      <td>일하는만큼 상응하는 연봉을 받고 싶습니다.</td>\n",
       "      <td>추천</td>\n",
       "      <td>0</td>\n",
       "    </tr>\n",
       "    <tr>\n",
       "      <th>1</th>\n",
       "      <td>1</td>\n",
       "      <td>특수계층/공공</td>\n",
       "      <td>전직원</td>\n",
       "      <td>서울</td>\n",
       "      <td>2024</td>\n",
       "      <td>2</td>\n",
       "      <td>\"과거에 비해 안좋아졌지만 그래도 괜찮은  회사\"</td>\n",
       "      <td>인력  구성이  훌륭하고  사회에  이바지할  수  있다.</td>\n",
       "      <td>공공기관 특성상 상방의 한계가 뚜렷하고 급여나 복지나 부족하다.</td>\n",
       "      <td>우수 인력의 이탈을 막기 위해서는 특단의 조치가 필요</td>\n",
       "      <td>추천</td>\n",
       "      <td>0</td>\n",
       "    </tr>\n",
       "  </tbody>\n",
       "</table>\n",
       "</div>"
      ],
      "text/plain": [
       "   Unnamed: 0       직무 재직상태 근무지  작성년도  작성월  \\\n",
       "0           0    기획/경영  전직원  서울  2024    3   \n",
       "1           1  특수계층/공공  전직원  서울  2024    2   \n",
       "\n",
       "                                 기업한줄평  \\\n",
       "0  \"부서 by 부서, 팀장 by 팀장으로 근무환경이 달라지는 곳\"   \n",
       "1          \"과거에 비해 안좋아졌지만 그래도 괜찮은  회사\"   \n",
       "\n",
       "                                                기업장점  \\\n",
       "0  사람 by 사람이 심하겠지만, 배울 점이 많은 분들 밑에서 일했습니다. 휴게실, 점...   \n",
       "1                   인력  구성이  훌륭하고  사회에  이바지할  수  있다.   \n",
       "\n",
       "                                                기업단점  \\\n",
       "0  사람 by 사람이 심한만큼, 배울 점이 많은 분들만 있는 것은 아니었습니다. 업무량...   \n",
       "1                공공기관 특성상 상방의 한계가 뚜렷하고 급여나 복지나 부족하다.   \n",
       "\n",
       "                         경영진희망사항 기업추천여부  추천수  \n",
       "0        일하는만큼 상응하는 연봉을 받고 싶습니다.     추천    0  \n",
       "1  우수 인력의 이탈을 막기 위해서는 특단의 조치가 필요     추천    0  "
      ]
     },
     "execution_count": 129,
     "metadata": {},
     "output_type": "execute_result"
    }
   ],
   "source": [
    "df2 = pd.read_csv('24_Data.csv')\n",
    "df2.head(2)"
   ]
  },
  {
   "cell_type": "code",
   "execution_count": 130,
   "id": "7b8c28f2",
   "metadata": {},
   "outputs": [
    {
     "data": {
      "text/plain": [
       "variable    0\n",
       "value       1\n",
       "dtype: int64"
      ]
     },
     "execution_count": 130,
     "metadata": {},
     "output_type": "execute_result"
    }
   ],
   "source": [
    "df3 = df2[['기업장점','기업단점']].melt()\n",
    "df3.isnull().sum()"
   ]
  },
  {
   "cell_type": "code",
   "execution_count": 131,
   "id": "2380c79b",
   "metadata": {},
   "outputs": [
    {
     "data": {
      "text/plain": [
       "Target\n",
       "1    80\n",
       "0    80\n",
       "Name: count, dtype: int64"
      ]
     },
     "execution_count": 131,
     "metadata": {},
     "output_type": "execute_result"
    }
   ],
   "source": [
    "df3['Target'] = df3['variable'].replace({'기업장점':1, '기업단점':0})\n",
    "df3['Target'].value_counts()"
   ]
  },
  {
   "cell_type": "code",
   "execution_count": 132,
   "id": "393f7152",
   "metadata": {},
   "outputs": [],
   "source": [
    "X = df3[['value']]\n",
    "Y = df3['Target']"
   ]
  },
  {
   "cell_type": "code",
   "execution_count": 133,
   "id": "2d845f27",
   "metadata": {},
   "outputs": [],
   "source": [
    "X_train, X_test, Y_train, Y_test = train_test_split(X,Y,test_size=0.3,\n",
    "                                                   random_state=1234)"
   ]
  },
  {
   "cell_type": "code",
   "execution_count": 103,
   "id": "4a1a9eee",
   "metadata": {},
   "outputs": [],
   "source": [
    "#X_train = X_train.dropna(subset=['value'])"
   ]
  },
  {
   "cell_type": "code",
   "execution_count": 134,
   "id": "fa2efd63",
   "metadata": {},
   "outputs": [],
   "source": [
    "# 문자를 숫자로 (Label Encoding) 변환한 다음 -> 행렬형태로 변환 (Padding)\n",
    "from konlpy.tag import Okt\n",
    "import re"
   ]
  },
  {
   "cell_type": "code",
   "execution_count": 135,
   "id": "9518057f",
   "metadata": {},
   "outputs": [],
   "source": [
    "okt = Okt()"
   ]
  },
  {
   "cell_type": "code",
   "execution_count": null,
   "id": "533dcc9c",
   "metadata": {
    "collapsed": true
   },
   "outputs": [],
   "source": [
    "# 뷸용어 처리 및 특수문자 제거\n",
    "clean_word_train = [] # 텍스트가 처리된 결과를 리스트에 지정\n",
    "for i in X_train['value']:\n",
    "    # 특수문자 처리 (정규 표현식)\n",
    "    review_txt = re.sub(r\"\\W+\", \" \", i) \n",
    "    # 문자를 제외한 한 글자 이상의 문자열을 제거(공백 값으로 바꿈)\n",
    "    \n",
    "    word_txt = okt.morphs(review_txt, stem=True)\n",
    "    # 앞서 특수문자가 처리된 문장을 형태소 단위로 분할\n",
    "    \n",
    "    word_txt2 = [x for x in word_txt if not x in set(['을','를','수','것'])]\n",
    "    # 불용어 처리\n",
    "    \n",
    "    clean_word_train.append(word_txt2)"
   ]
  },
  {
   "cell_type": "code",
   "execution_count": 105,
   "id": "b5f9708c",
   "metadata": {},
   "outputs": [],
   "source": [
    "# 뷸용어 처리 및 특수문자 제거\n",
    "clean_word_test = [] # 텍스트가 처리된 결과를 리스트에 지정\n",
    "for i in X_test['value']:\n",
    "    # 특수문자 처리 (정규 표현식)\n",
    "    review_txt = re.sub(r\"\\W+\", \" \", i) \n",
    "    # 문자를 제외한 한 글자 이상의 문자열을 제거(공백 값으로 바꿈)\n",
    "    \n",
    "    word_txt = okt.morphs(review_txt, stem=True)\n",
    "    # 앞서 특수문자가 처리된 문장을 형태소 단위로 분할\n",
    "    \n",
    "    word_txt2 = [x for x in word_txt if not x in set(['을','를','수','것'])]\n",
    "    # 불용어 처리\n",
    "    \n",
    "    clean_word_test.append(word_txt2)"
   ]
  },
  {
   "cell_type": "code",
   "execution_count": 106,
   "id": "fea74503",
   "metadata": {},
   "outputs": [],
   "source": [
    "# 라벨링과 패딩(Padding)에 필요한 라이브러리를 호출\n",
    "from tensorflow.keras.preprocessing.text   import Tokenizer\n",
    "from keras.preprocessing.sequence import pad_sequences"
   ]
  },
  {
   "cell_type": "code",
   "execution_count": 107,
   "id": "3d13f303",
   "metadata": {},
   "outputs": [],
   "source": [
    "# 문자를 하나의 정수로 Labeling(Label Encoding)\n",
    "token_model = Tokenizer()\n",
    "token_model.fit_on_texts(clean_word_train)\n",
    "train_seq = token_model.texts_to_sequences(clean_word_train)\n",
    "test_seq = token_model.texts_to_sequences(clean_word_test)"
   ]
  },
  {
   "cell_type": "code",
   "execution_count": 111,
   "id": "a56e162d",
   "metadata": {},
   "outputs": [
    {
     "data": {
      "text/plain": [
       "(111, 80)"
      ]
     },
     "execution_count": 111,
     "metadata": {},
     "output_type": "execute_result"
    }
   ],
   "source": [
    "# 숫자로 바뀐 텍스트의 리스트를 Padding 기법을 이용해 Matrix로 변환\n",
    "x_train_vec = pad_sequences(train_seq, maxlen=80, padding='post')\n",
    "# maxlen 숫자로 바뀐 문장의 최대 길이 (최대 단어(형태소) 수)\n",
    "x_train_vec.shape"
   ]
  },
  {
   "cell_type": "code",
   "execution_count": 112,
   "id": "966ea8e1",
   "metadata": {},
   "outputs": [],
   "source": [
    "x_test_vec = pad_sequences(test_seq, maxlen=80, padding='post')"
   ]
  },
  {
   "cell_type": "code",
   "execution_count": 114,
   "id": "38efcf38",
   "metadata": {},
   "outputs": [],
   "source": [
    "from keras.layers import SimpleRNN\n",
    "from keras.layers import Embedding"
   ]
  },
  {
   "cell_type": "code",
   "execution_count": 118,
   "id": "9dbd909c",
   "metadata": {
    "collapsed": true
   },
   "outputs": [
    {
     "name": "stdout",
     "output_type": "stream",
     "text": [
      "Epoch 1/10\n",
      "\u001b[1m3/3\u001b[0m \u001b[32m━━━━━━━━━━━━━━━━━━━━\u001b[0m\u001b[37m\u001b[0m \u001b[1m1s\u001b[0m 70ms/step - accuracy: 0.5410 - loss: 0.6978 - val_accuracy: 0.5588 - val_loss: 0.6699\n",
      "Epoch 2/10\n",
      "\u001b[1m3/3\u001b[0m \u001b[32m━━━━━━━━━━━━━━━━━━━━\u001b[0m\u001b[37m\u001b[0m \u001b[1m0s\u001b[0m 13ms/step - accuracy: 0.6697 - loss: 0.6701 - val_accuracy: 0.4706 - val_loss: 0.6815\n",
      "Epoch 3/10\n",
      "\u001b[1m3/3\u001b[0m \u001b[32m━━━━━━━━━━━━━━━━━━━━\u001b[0m\u001b[37m\u001b[0m \u001b[1m0s\u001b[0m 14ms/step - accuracy: 0.7815 - loss: 0.6182 - val_accuracy: 0.4412 - val_loss: 0.7707\n",
      "Epoch 4/10\n",
      "\u001b[1m3/3\u001b[0m \u001b[32m━━━━━━━━━━━━━━━━━━━━\u001b[0m\u001b[37m\u001b[0m \u001b[1m0s\u001b[0m 14ms/step - accuracy: 0.8583 - loss: 0.5615 - val_accuracy: 0.5294 - val_loss: 0.7423\n",
      "Epoch 5/10\n",
      "\u001b[1m3/3\u001b[0m \u001b[32m━━━━━━━━━━━━━━━━━━━━\u001b[0m\u001b[37m\u001b[0m \u001b[1m0s\u001b[0m 13ms/step - accuracy: 0.8700 - loss: 0.4900 - val_accuracy: 0.5294 - val_loss: 0.7400\n",
      "Epoch 6/10\n",
      "\u001b[1m3/3\u001b[0m \u001b[32m━━━━━━━━━━━━━━━━━━━━\u001b[0m\u001b[37m\u001b[0m \u001b[1m0s\u001b[0m 15ms/step - accuracy: 0.9194 - loss: 0.4335 - val_accuracy: 0.4706 - val_loss: 0.8066\n",
      "Epoch 7/10\n",
      "\u001b[1m3/3\u001b[0m \u001b[32m━━━━━━━━━━━━━━━━━━━━\u001b[0m\u001b[37m\u001b[0m \u001b[1m0s\u001b[0m 14ms/step - accuracy: 0.9428 - loss: 0.3724 - val_accuracy: 0.5000 - val_loss: 0.6939\n",
      "Epoch 8/10\n",
      "\u001b[1m3/3\u001b[0m \u001b[32m━━━━━━━━━━━━━━━━━━━━\u001b[0m\u001b[37m\u001b[0m \u001b[1m0s\u001b[0m 15ms/step - accuracy: 0.9818 - loss: 0.3326 - val_accuracy: 0.5294 - val_loss: 0.7853\n",
      "Epoch 9/10\n",
      "\u001b[1m3/3\u001b[0m \u001b[32m━━━━━━━━━━━━━━━━━━━━\u001b[0m\u001b[37m\u001b[0m \u001b[1m0s\u001b[0m 22ms/step - accuracy: 0.9792 - loss: 0.2818 - val_accuracy: 0.5000 - val_loss: 0.7520\n",
      "Epoch 10/10\n",
      "\u001b[1m3/3\u001b[0m \u001b[32m━━━━━━━━━━━━━━━━━━━━\u001b[0m\u001b[37m\u001b[0m \u001b[1m0s\u001b[0m 16ms/step - accuracy: 1.0000 - loss: 0.2363 - val_accuracy: 0.5000 - val_loss: 0.7653\n"
     ]
    },
    {
     "data": {
      "text/plain": [
       "<keras.src.callbacks.history.History at 0x2cd36b4d0>"
      ]
     },
     "execution_count": 118,
     "metadata": {},
     "output_type": "execute_result"
    }
   ],
   "source": [
    "model_RNN = Sequential()\n",
    "model_RNN.add(Embedding(10000,8))\n",
    "model_RNN.add(SimpleRNN(32))\n",
    "model_RNN.add(Dense(1, activation='sigmoid'))\n",
    "\n",
    "model_RNN.compile(optimizer='adam', loss='binary_crossentropy',\n",
    "                 metrics=['accuracy'])\n",
    "model_RNN.fit(x_train_vec, Y_train, epochs=10, validation_split=0.3)"
   ]
  },
  {
   "cell_type": "code",
   "execution_count": 119,
   "id": "80ebb2fa",
   "metadata": {
    "collapsed": true
   },
   "outputs": [
    {
     "name": "stdout",
     "output_type": "stream",
     "text": [
      "\u001b[1m4/4\u001b[0m \u001b[32m━━━━━━━━━━━━━━━━━━━━\u001b[0m\u001b[37m\u001b[0m \u001b[1m0s\u001b[0m 24ms/step\n",
      "\u001b[1m2/2\u001b[0m \u001b[32m━━━━━━━━━━━━━━━━━━━━\u001b[0m\u001b[37m\u001b[0m \u001b[1m0s\u001b[0m 2ms/step \n"
     ]
    }
   ],
   "source": [
    "Y_train_pred = pd.Series(model_RNN.predict(x_train_vec).flatten()).apply(threshold_func)\n",
    "Y_test_pred = pd.Series(model_RNN.predict(x_test_vec).flatten()).apply(threshold_func)"
   ]
  },
  {
   "cell_type": "code",
   "execution_count": null,
   "id": "36af9ad8",
   "metadata": {
    "collapsed": true
   },
   "outputs": [],
   "source": [
    "print(classification_report(Y_train, Y_train_pred))\n",
    "print(classification_report(Y_test, Y_test_pred))"
   ]
  },
  {
   "cell_type": "markdown",
   "id": "a6373b12",
   "metadata": {},
   "source": [
    "# 개별미션"
   ]
  },
  {
   "cell_type": "markdown",
   "id": "3d9e3cfe",
   "metadata": {},
   "source": [
    "- 아래의 미션을 Jupyter Notebook으로 풀이 후, [File] - [Download as]에 [HTML (.html] 로 저장하여 메일로 송부해주세요.\n",
    "- 제출 양식 : [하나은행_데이터] 홍길동_개별 미션 (9주차 3일)"
   ]
  },
  {
   "cell_type": "markdown",
   "id": "e0a5155e",
   "metadata": {},
   "source": [
    "29_Lineage 데이터를 활용해 아래와 같은 분석을 실시하시오."
   ]
  },
  {
   "cell_type": "code",
   "execution_count": 141,
   "id": "9f43bf09",
   "metadata": {},
   "outputs": [
    {
     "data": {
      "text/plain": [
       "Index(['day', 'acc_id', 'char_id', 'server', 'playtime', 'npc_kill',\n",
       "       'solo_exp', 'party_exp', 'quest_exp', 'boss_monster', 'death', 'revive',\n",
       "       'exp_recovery', 'fishing', 'private_shop', 'game_money_change',\n",
       "       'enchant_count'],\n",
       "      dtype='object')"
      ]
     },
     "execution_count": 141,
     "metadata": {},
     "output_type": "execute_result"
    }
   ],
   "source": [
    "# 유저 행동 데이터\n",
    "df_act = pd.read_csv('29_Lineage/activity.csv')\n",
    "df_act.columns"
   ]
  },
  {
   "cell_type": "code",
   "execution_count": 144,
   "id": "28317ce3",
   "metadata": {},
   "outputs": [],
   "source": [
    "# 유저 id 별 캐릭터 수 / 총 플레이 시간 계산\n",
    "df_act['char_num'] = 1\n",
    "p1 =df_act.pivot_table(index='acc_id', values=['char_num', 'playtime'],\n",
    "                        aggfunc='sum').reset_index()"
   ]
  },
  {
   "cell_type": "code",
   "execution_count": 145,
   "id": "fd122445",
   "metadata": {},
   "outputs": [],
   "source": [
    "# 총 획득 경험치 (혼자 + 팀 + 퀘스트)\n",
    "df_act['total_exp'] = df_act['solo_exp'] + df_act['party_exp'] + df_act['quest_exp']"
   ]
  },
  {
   "cell_type": "code",
   "execution_count": 147,
   "id": "73f8aee9",
   "metadata": {},
   "outputs": [],
   "source": [
    "# 유저 ID 별 캐릭터 당 평균 플레이 시간 / 평균 NPC 킬수 등...\n",
    "p2 = df_act.pivot_table(index='acc_id',\n",
    "                  values=['npc_kill', 'total_exp','death','revive',\n",
    "                         'enchant_count'],\n",
    "                  aggfunc='mean')"
   ]
  },
  {
   "cell_type": "markdown",
   "id": "f35c5203",
   "metadata": {},
   "source": [
    "---"
   ]
  },
  {
   "cell_type": "code",
   "execution_count": 149,
   "id": "4f74f0d9",
   "metadata": {
    "collapsed": true
   },
   "outputs": [
    {
     "data": {
      "text/html": [
       "<div>\n",
       "<style scoped>\n",
       "    .dataframe tbody tr th:only-of-type {\n",
       "        vertical-align: middle;\n",
       "    }\n",
       "\n",
       "    .dataframe tbody tr th {\n",
       "        vertical-align: top;\n",
       "    }\n",
       "\n",
       "    .dataframe thead th {\n",
       "        text-align: right;\n",
       "    }\n",
       "</style>\n",
       "<table border=\"1\" class=\"dataframe\">\n",
       "  <thead>\n",
       "    <tr style=\"text-align: right;\">\n",
       "      <th></th>\n",
       "      <th>day</th>\n",
       "      <th>acc_id</th>\n",
       "      <th>char_id</th>\n",
       "      <th>server</th>\n",
       "      <th>class</th>\n",
       "      <th>level</th>\n",
       "      <th>pledge_cnt</th>\n",
       "      <th>random_attacker_cnt</th>\n",
       "      <th>random_defender_cnt</th>\n",
       "      <th>temp_cnt</th>\n",
       "      <th>same_pledge_cnt</th>\n",
       "      <th>etc_cnt</th>\n",
       "      <th>num_opponent</th>\n",
       "    </tr>\n",
       "  </thead>\n",
       "  <tbody>\n",
       "    <tr>\n",
       "      <th>0</th>\n",
       "      <td>1</td>\n",
       "      <td>13809</td>\n",
       "      <td>54861</td>\n",
       "      <td>ap</td>\n",
       "      <td>2</td>\n",
       "      <td>13</td>\n",
       "      <td>0.0</td>\n",
       "      <td>0.0</td>\n",
       "      <td>0.0</td>\n",
       "      <td>0.0</td>\n",
       "      <td>0.0</td>\n",
       "      <td>0.0</td>\n",
       "      <td>0.0</td>\n",
       "    </tr>\n",
       "    <tr>\n",
       "      <th>1</th>\n",
       "      <td>1</td>\n",
       "      <td>13809</td>\n",
       "      <td>256332</td>\n",
       "      <td>ap</td>\n",
       "      <td>2</td>\n",
       "      <td>13</td>\n",
       "      <td>0.0</td>\n",
       "      <td>0.0</td>\n",
       "      <td>0.0</td>\n",
       "      <td>0.0</td>\n",
       "      <td>0.0</td>\n",
       "      <td>0.0</td>\n",
       "      <td>0.0</td>\n",
       "    </tr>\n",
       "  </tbody>\n",
       "</table>\n",
       "</div>"
      ],
      "text/plain": [
       "   day  acc_id  char_id server  class  level  pledge_cnt  random_attacker_cnt  \\\n",
       "0    1   13809    54861     ap      2     13         0.0                  0.0   \n",
       "1    1   13809   256332     ap      2     13         0.0                  0.0   \n",
       "\n",
       "   random_defender_cnt  temp_cnt  same_pledge_cnt  etc_cnt  num_opponent  \n",
       "0                  0.0       0.0              0.0      0.0           0.0  \n",
       "1                  0.0       0.0              0.0      0.0           0.0  "
      ]
     },
     "execution_count": 149,
     "metadata": {},
     "output_type": "execute_result"
    }
   ],
   "source": [
    "# 전투 데이터 불러오기\n",
    "df_combat = pd.read_csv('29_Lineage/combat.csv')\n",
    "df_combat.head(2)"
   ]
  },
  {
   "cell_type": "code",
   "execution_count": 151,
   "id": "ec89bf79",
   "metadata": {},
   "outputs": [
    {
     "data": {
      "text/plain": [
       "(40000, 3)"
      ]
     },
     "execution_count": 151,
     "metadata": {},
     "output_type": "execute_result"
    }
   ],
   "source": [
    "p3 = df_combat.pivot_table(index='acc_id', values='level',\n",
    "                            aggfunc=['min', 'max']).reset_index()\n",
    "p3.columns = ['acc_id', 'level_min', 'level_max']\n",
    "p3.shape"
   ]
  },
  {
   "cell_type": "code",
   "execution_count": 152,
   "id": "7d6f04d4",
   "metadata": {
    "collapsed": true
   },
   "outputs": [
    {
     "data": {
      "text/plain": [
       "Index(['day', 'acc_id', 'char_id', 'server', 'class', 'level', 'pledge_cnt',\n",
       "       'random_attacker_cnt', 'random_defender_cnt', 'temp_cnt',\n",
       "       'same_pledge_cnt', 'etc_cnt', 'num_opponent'],\n",
       "      dtype='object')"
      ]
     },
     "execution_count": 152,
     "metadata": {},
     "output_type": "execute_result"
    }
   ],
   "source": [
    "df_combat.columns"
   ]
  },
  {
   "cell_type": "code",
   "execution_count": 153,
   "id": "4b80fafb",
   "metadata": {},
   "outputs": [],
   "source": [
    "p4 = df_combat.pivot_table(index='acc_id',\n",
    "                     values=['pledge_cnt',\n",
    "       'random_attacker_cnt', 'random_defender_cnt', 'temp_cnt',\n",
    "       'same_pledge_cnt', 'etc_cnt', 'num_opponent'],\n",
    "                     aggfunc='mean').reset_index()"
   ]
  },
  {
   "cell_type": "code",
   "execution_count": 154,
   "id": "cdfe0c5b",
   "metadata": {
    "collapsed": true
   },
   "outputs": [
    {
     "data": {
      "text/plain": [
       "Index(['acc_id', 'survival_time', 'amount_spent'], dtype='object')"
      ]
     },
     "execution_count": 154,
     "metadata": {},
     "output_type": "execute_result"
    }
   ],
   "source": [
    "# 잔존율에 대한 데이터를 불러와, 병합\n",
    "df_label = pd.read_csv('29_Lineage/label.csv')\n",
    "df_label.columns"
   ]
  },
  {
   "cell_type": "code",
   "execution_count": 157,
   "id": "11645d37",
   "metadata": {},
   "outputs": [],
   "source": [
    "# 앞서 처리한 유저의 행동/전투 데이터의 병합\n",
    "m1 = pd.merge(df_label, p1, on='acc_id', how='inner')"
   ]
  },
  {
   "cell_type": "code",
   "execution_count": 158,
   "id": "cc15a9ec",
   "metadata": {},
   "outputs": [],
   "source": [
    "m2 = pd.merge(m1, p2, on='acc_id', how='inner') # 평균 플레이시간 등등"
   ]
  },
  {
   "cell_type": "code",
   "execution_count": 159,
   "id": "67713fe6",
   "metadata": {},
   "outputs": [],
   "source": [
    "m3 = pd.merge(m2, p3, on='acc_id', how='inner') # 캐릭터 최소 레벨/최대레벨"
   ]
  },
  {
   "cell_type": "code",
   "execution_count": 160,
   "id": "2427ef0e",
   "metadata": {},
   "outputs": [],
   "source": [
    "df1 = pd.merge(m3, p4, on='acc_id', how='inner')"
   ]
  },
  {
   "cell_type": "code",
   "execution_count": 161,
   "id": "57fc2f55",
   "metadata": {},
   "outputs": [
    {
     "data": {
      "text/plain": [
       "Index(['acc_id', 'survival_time', 'amount_spent', 'char_num', 'playtime',\n",
       "       'death', 'enchant_count', 'npc_kill', 'revive', 'total_exp',\n",
       "       'level_min', 'level_max', 'etc_cnt', 'num_opponent', 'pledge_cnt',\n",
       "       'random_attacker_cnt', 'random_defender_cnt', 'same_pledge_cnt',\n",
       "       'temp_cnt'],\n",
       "      dtype='object')"
      ]
     },
     "execution_count": 161,
     "metadata": {},
     "output_type": "execute_result"
    }
   ],
   "source": [
    "df1.columns"
   ]
  },
  {
   "cell_type": "markdown",
   "id": "0254e593",
   "metadata": {},
   "source": [
    "----"
   ]
  },
  {
   "cell_type": "markdown",
   "id": "c76b2ef4",
   "metadata": {},
   "source": [
    "1. 유저 중, 소유한 캐릭터가 3개 이상인 유저들의 평균 잔존일을 계산하고, 전체 중 64일 이상 잔존한 유저의 비율을 계산하시오."
   ]
  },
  {
   "cell_type": "code",
   "execution_count": 166,
   "id": "970563cb",
   "metadata": {},
   "outputs": [],
   "source": [
    "# 소유한 캐릭터 3개 이상\n",
    "cond1 = (df1['char_num'] > 3)\n",
    "df1_1 = df1.loc[cond1]"
   ]
  },
  {
   "cell_type": "code",
   "execution_count": 169,
   "id": "c642a383",
   "metadata": {},
   "outputs": [
    {
     "data": {
      "text/plain": [
       "46.93762767965659"
      ]
     },
     "execution_count": 169,
     "metadata": {},
     "output_type": "execute_result"
    }
   ],
   "source": [
    "# 평균 잔존일\n",
    "df1_1['survival_time'].mean()"
   ]
  },
  {
   "cell_type": "code",
   "execution_count": 172,
   "id": "36cf8eb8",
   "metadata": {},
   "outputs": [
    {
     "name": "stdout",
     "output_type": "stream",
     "text": [
      "54.99000000000001 %\n"
     ]
    }
   ],
   "source": [
    "# 전체 중 64일 이상 잔존한 유저의 비율 계산\n",
    "cond2 = (df1['survival_time'] >= 64)\n",
    "more64 = len(df1.loc[cond2])\n",
    "total = len(df1)\n",
    "\n",
    "print((more64/total) * 100,\"%\")"
   ]
  },
  {
   "cell_type": "markdown",
   "id": "028fff9c",
   "metadata": {},
   "source": [
    "---"
   ]
  },
  {
   "cell_type": "markdown",
   "id": "d79f9b93",
   "metadata": {},
   "source": [
    "2. 캐릭터의 획득 총 경험치 중, 파티사냥 경험치가 20% 이상인 캐릭터들이 가장 많이 구매한 아이템이 무엇인지 확인 하시오."
   ]
  },
  {
   "cell_type": "markdown",
   "id": "dfdc54f0",
   "metadata": {},
   "source": [
    "-> 캐릭터의 획득 total_exp 중, party_exp 가 20% 이상인 캐릭터들이 가장 많이 구매한 item_type ? "
   ]
  },
  {
   "cell_type": "code",
   "execution_count": 181,
   "id": "08e40f5c",
   "metadata": {
    "collapsed": true
   },
   "outputs": [
    {
     "data": {
      "text/plain": [
       "Index(['day', 'time', 'type', 'server', 'source_acc_id', 'source_char_id',\n",
       "       'target_acc_id', 'target_char_id', 'item_type', 'item_amount',\n",
       "       'item_price'],\n",
       "      dtype='object')"
      ]
     },
     "execution_count": 181,
     "metadata": {},
     "output_type": "execute_result"
    }
   ],
   "source": [
    "trade_df = pd.read_csv('29_Lineage/trade.csv')\n",
    "trade_df.columns"
   ]
  },
  {
   "cell_type": "code",
   "execution_count": 184,
   "id": "a6cea0e2",
   "metadata": {},
   "outputs": [],
   "source": [
    "# 파티샤낭 경험치가 전체 경험치 획득의 20% 이상인 캐릭터 필터링\n",
    "df_act['total_exp'] = df_act['solo_exp'] + df_act['party_exp'] + df_act['quest_exp']\n",
    "party20per = df_act['party_exp'] >= 0.2 * df_act['total_exp']\n",
    "char_id_party20 = df_act[party20per]['char_id']"
   ]
  },
  {
   "cell_type": "code",
   "execution_count": 188,
   "id": "f9ad1ac0",
   "metadata": {},
   "outputs": [],
   "source": [
    "char_id_20 = trade_df[trade_df['target_char_id'].isin(char_id_party20)]\n",
    "item_20 = char_id_20['item_type'].value_counts().idxmax()"
   ]
  },
  {
   "cell_type": "code",
   "execution_count": 189,
   "id": "d03769d9",
   "metadata": {},
   "outputs": [
    {
     "data": {
      "text/plain": [
       "'etc'"
      ]
     },
     "execution_count": 189,
     "metadata": {},
     "output_type": "execute_result"
    }
   ],
   "source": [
    "item_20"
   ]
  },
  {
   "cell_type": "markdown",
   "id": "913b70e0",
   "metadata": {},
   "source": [
    "---"
   ]
  },
  {
   "cell_type": "markdown",
   "id": "db4a7b35",
   "metadata": {},
   "source": [
    "3. 캐릭터의 획득 총 경험치 중, 솔로 사냥 경험치가 20% 이상인 캐릭터들이 전투 상대를 한 캐릭터 수의 분포를 히스토 그램으로 확인하시오."
   ]
  },
  {
   "cell_type": "code",
   "execution_count": 192,
   "id": "4bd9dfc9",
   "metadata": {},
   "outputs": [],
   "source": [
    "solo20per = df_act['solo_exp'] >= 0.2 * df_act['total_exp']\n",
    "char_id_solo20 = df_act[solo20per]['char_id']"
   ]
  },
  {
   "cell_type": "code",
   "execution_count": 194,
   "id": "025a168a",
   "metadata": {},
   "outputs": [],
   "source": [
    "p3 = df_combat[df_combat['char_id'].isin(char_id_solo20)]['num_opponent']"
   ]
  },
  {
   "cell_type": "code",
   "execution_count": 196,
   "id": "c2fb954c",
   "metadata": {
    "collapsed": true
   },
   "outputs": [
    {
     "data": {
      "text/plain": [
       "(array([1.507816e+06, 1.167000e+04, 2.247000e+03, 6.120000e+02,\n",
       "        1.860000e+02, 6.700000e+01, 1.800000e+01, 5.000000e+00,\n",
       "        3.000000e+00, 4.000000e+00]),\n",
       " array([ 0.        ,  5.45595875, 10.9119175 , 16.36787626, 21.82383501,\n",
       "        27.27979376, 32.73575251, 38.19171126, 43.64767001, 49.10362877,\n",
       "        54.55958752]),\n",
       " <BarContainer object of 10 artists>)"
      ]
     },
     "execution_count": 196,
     "metadata": {},
     "output_type": "execute_result"
    },
    {
     "data": {
      "image/png": "[encoded data removed]",
      "text/plain": [
       "<Figure size 640x480 with 1 Axes>"
      ]
     },
     "metadata": {},
     "output_type": "display_data"
    }
   ],
   "source": [
    "import matplotlib.pyplot as plt\n",
    "\n",
    "plt.hist(p3)"
   ]
  },
  {
   "cell_type": "markdown",
   "id": "4928b81f",
   "metadata": {},
   "source": [
    "---"
   ]
  },
  {
   "cell_type": "markdown",
   "id": "f90c5d8c",
   "metadata": {},
   "source": [
    "4. '군주'직업을 가진 캐릭터들의 사망한 횟수와 '마법사'직업을 가진 캐릭터들의 사망한 횟수의 대표값의 차이가 있는지 검정하시오."
   ]
  },
  {
   "cell_type": "code",
   "execution_count": null,
   "id": "f051f426",
   "metadata": {},
   "outputs": [],
   "source": [
    "# '군주' - class : 0 / '마법사' - class: 3"
   ]
  },
  {
   "cell_type": "code",
   "execution_count": 203,
   "id": "54f195f4",
   "metadata": {},
   "outputs": [],
   "source": [
    "# df_combat 군주 직업 캐릭터 아이디 가져오기\n",
    "char_ids_class0 = df_combat[df_combat['class'] == 0]['char_id']\n",
    "\n",
    "# df_combat 마법사 직업 캐릭터 아이디 가져오기\n",
    "char_ids_class3 = df_combat[df_combat['class'] == 3]['char_id']"
   ]
  },
  {
   "cell_type": "code",
   "execution_count": 207,
   "id": "b4c812e6",
   "metadata": {},
   "outputs": [],
   "source": [
    "df4_1 = df_act[df_act['char_id'].isin(char_ids_class0)]\n",
    "df4_2 = df_act[df_act['char_id'].isin(char_ids_class3)]"
   ]
  },
  {
   "cell_type": "code",
   "execution_count": 208,
   "id": "bb0e3e53",
   "metadata": {},
   "outputs": [
    {
     "data": {
      "text/plain": [
       "Index(['day', 'acc_id', 'char_id', 'server', 'playtime', 'npc_kill',\n",
       "       'solo_exp', 'party_exp', 'quest_exp', 'boss_monster', 'death', 'revive',\n",
       "       'exp_recovery', 'fishing', 'private_shop', 'game_money_change',\n",
       "       'enchant_count', 'char_num', 'total_exp'],\n",
       "      dtype='object')"
      ]
     },
     "execution_count": 208,
     "metadata": {},
     "output_type": "execute_result"
    }
   ],
   "source": [
    "df4_1.columns"
   ]
  },
  {
   "cell_type": "code",
   "execution_count": 210,
   "id": "2881a881",
   "metadata": {},
   "outputs": [
    {
     "name": "stdout",
     "output_type": "stream",
     "text": [
      "NormaltestResult(statistic=552981.191272287, pvalue=0.0)\n",
      "NormaltestResult(statistic=781727.0042963286, pvalue=0.0)\n"
     ]
    }
   ],
   "source": [
    "# 정규분포\n",
    "# 귀무가설 : 해당 데이터의 분포는 정규분포를 따른다\n",
    "# 대립가설 : 해당 데이터의 분포는 정규분포를 따르지 않는다.\n",
    "print(stats.normaltest(df4_1['death']))\n",
    "print(stats.normaltest(df4_2['death']))\n",
    "# P.value < 0.05 / 대립가설 참\n",
    "# 해당 데이터의 분포는 정규분포를 따르지 않는다"
   ]
  },
  {
   "cell_type": "code",
   "execution_count": 211,
   "id": "0c48d9d0",
   "metadata": {},
   "outputs": [
    {
     "data": {
      "text/plain": [
       "RanksumsResult(statistic=-66.11940106888702, pvalue=0.0)"
      ]
     },
     "execution_count": 211,
     "metadata": {},
     "output_type": "execute_result"
    }
   ],
   "source": [
    "# 정규성을 따르지 안흔 두 집단의 연속형 자료 비교\n",
    "# 귀무가설 : 두 집단 간 사망횟수의 대표값의 차이가 없다\n",
    "# 대립가설 : 두 집단 간 사망횟수의 대표값의 차이가 있다\n",
    "stats.ranksums(df4_1['death'], df4_2['death'])\n",
    "# P.value < 0.05 / 대립가설 참\n",
    "# 두 집단 간 사망횟수의 대표값의 차이가 있다"
   ]
  },
  {
   "cell_type": "markdown",
   "id": "9340a712",
   "metadata": {},
   "source": [
    "---"
   ]
  },
  {
   "cell_type": "markdown",
   "id": "99555545",
   "metadata": {},
   "source": [
    "5. 레벨이 가장 높은 상위 10% 캐릭터들의 캐릭터 직업 빈도수를 확인하시오."
   ]
  },
  {
   "cell_type": "code",
   "execution_count": 222,
   "id": "fdfc3516",
   "metadata": {},
   "outputs": [],
   "source": [
    "level10per = df_combat['level'].quantile(0.9)"
   ]
  },
  {
   "cell_type": "code",
   "execution_count": 224,
   "id": "fbe4c93a",
   "metadata": {},
   "outputs": [
    {
     "data": {
      "text/plain": [
       "class\n",
       "1    70600\n",
       "2    47602\n",
       "3    40131\n",
       "4    39597\n",
       "7    23503\n",
       "5    13790\n",
       "6     7382\n",
       "0     4555\n",
       "Name: count, dtype: int64"
      ]
     },
     "execution_count": 224,
     "metadata": {},
     "output_type": "execute_result"
    }
   ],
   "source": [
    "level10per_cha = df_combat[df_combat['level'] >= level10per]\n",
    "level10per_cha['class'].value_counts()"
   ]
  },
  {
   "cell_type": "markdown",
   "id": "c05badf6",
   "metadata": {},
   "source": [
    "---"
   ]
  },
  {
   "cell_type": "markdown",
   "id": "201cfbea",
   "metadata": {},
   "source": [
    "6. 레벨이 가장 높은 상위 10% 캐릭터들이 가장 많이 있는 서버는 어디인지 확인하시오."
   ]
  },
  {
   "cell_type": "code",
   "execution_count": 226,
   "id": "27b91169",
   "metadata": {},
   "outputs": [
    {
     "data": {
      "text/plain": [
       "server\n",
       "bj    11595\n",
       "Name: count, dtype: int64"
      ]
     },
     "execution_count": 226,
     "metadata": {},
     "output_type": "execute_result"
    }
   ],
   "source": [
    "level10per_cha['server'].value_counts().head(1)"
   ]
  },
  {
   "cell_type": "markdown",
   "id": "168fd9b6",
   "metadata": {},
   "source": [
    "---"
   ]
  },
  {
   "cell_type": "markdown",
   "id": "58df2d55",
   "metadata": {},
   "source": [
    "7. 거래가 가장 활발하게 벌어지는 시간을 확인하고, 해당 시간에 유저들이 가장 많이 거래하는 아이템 종류를 확인하시오."
   ]
  },
  {
   "cell_type": "code",
   "execution_count": 229,
   "id": "82b5dfa6",
   "metadata": {
    "collapsed": true
   },
   "outputs": [
    {
     "data": {
      "text/plain": [
       "0          21:40:09\n",
       "1          13:08:52\n",
       "2          21:01:48\n",
       "3          14:37:50\n",
       "4          20:32:00\n",
       "             ...   \n",
       "2245191    23:59:54\n",
       "2245192    23:59:55\n",
       "2245193    23:59:57\n",
       "2245194    23:59:57\n",
       "2245195    23:59:57\n",
       "Name: time, Length: 2245196, dtype: object"
      ]
     },
     "execution_count": 229,
     "metadata": {},
     "output_type": "execute_result"
    }
   ],
   "source": [
    "trade_df['time']"
   ]
  },
  {
   "cell_type": "code",
   "execution_count": 234,
   "id": "0434b8aa",
   "metadata": {
    "collapsed": true
   },
   "outputs": [
    {
     "name": "stderr",
     "output_type": "stream",
     "text": [
      "/var/folders/q9/51yx3nc91mq6crjc81y6g1wm0000gn/T/ipykernel_4172/3357084126.py:1: UserWarning:\n",
      "\n",
      "Could not infer format, so each element will be parsed individually, falling back to `dateutil`. To ensure parsing is consistent and as-expected, please specify a format.\n",
      "\n"
     ]
    }
   ],
   "source": [
    "trade_df['time_df'] = pd.to_datetime(trade_df['time'])"
   ]
  },
  {
   "cell_type": "code",
   "execution_count": 236,
   "id": "c8326a6a",
   "metadata": {},
   "outputs": [],
   "source": [
    "trade_df['hour'] = trade_df['time_df'].dt.hour"
   ]
  },
  {
   "cell_type": "code",
   "execution_count": 243,
   "id": "44d914f5",
   "metadata": {},
   "outputs": [
    {
     "data": {
      "text/plain": [
       "hour\n",
       "22    178212\n",
       "Name: count, dtype: int64"
      ]
     },
     "execution_count": 243,
     "metadata": {},
     "output_type": "execute_result"
    }
   ],
   "source": [
    "trade_df['hour'].value_counts().head(1)"
   ]
  },
  {
   "cell_type": "code",
   "execution_count": 245,
   "id": "66c02d5f",
   "metadata": {},
   "outputs": [
    {
     "data": {
      "text/plain": [
       "item_type\n",
       "etc    78085\n",
       "Name: count, dtype: int64"
      ]
     },
     "execution_count": 245,
     "metadata": {},
     "output_type": "execute_result"
    }
   ],
   "source": [
    "trade_df[trade_df['hour'] == 22]['item_type'].value_counts().head(1)"
   ]
  },
  {
   "cell_type": "markdown",
   "id": "1f823577",
   "metadata": {},
   "source": [
    "---"
   ]
  },
  {
   "cell_type": "markdown",
   "id": "0bf3ef7c",
   "metadata": {},
   "source": [
    "8. 유저의 일일 플레이시간과 가장 연관이 높은 항목을 찾고자 한다. 유저 별 총 일일 플레이시간을 계산하고, 해당 데이터와 가장 연관성 높은 항목 5가지를 상관분석/ 회귀분석을 통해 각각 도출하시오."
   ]
  },
  {
   "cell_type": "code",
   "execution_count": 259,
   "id": "0eba7b60",
   "metadata": {},
   "outputs": [],
   "source": [
    "import seaborn as sns\n",
    "import matplotlib.pyplot as plt\n",
    "from sklearn.linear_model import LinearRegression"
   ]
  },
  {
   "cell_type": "code",
   "execution_count": 251,
   "id": "a984f089",
   "metadata": {},
   "outputs": [],
   "source": [
    "# 상관분석\n",
    "correlation_matrix = df1.corr() # 상관 행렬 계산"
   ]
  },
  {
   "cell_type": "code",
   "execution_count": 255,
   "id": "6fba6a93",
   "metadata": {
    "collapsed": true
   },
   "outputs": [
    {
     "data": {
      "text/plain": [
       "playtime               1.000000\n",
       "survival_time          0.271866\n",
       "npc_kill               0.254132\n",
       "random_defender_cnt    0.204245\n",
       "char_num               0.168184\n",
       "etc_cnt                0.079045\n",
       "pledge_cnt             0.050374\n",
       "num_opponent           0.040859\n",
       "temp_cnt               0.027478\n",
       "death                  0.008307\n",
       "revive                -0.001821\n",
       "acc_id                -0.002818\n",
       "level_min             -0.009309\n",
       "enchant_count         -0.011811\n",
       "random_attacker_cnt   -0.026737\n",
       "same_pledge_cnt       -0.046771\n",
       "amount_spent          -0.073406\n",
       "total_exp             -0.180957\n",
       "level_max             -0.301071\n",
       "Name: playtime, dtype: float64"
      ]
     },
     "execution_count": 255,
     "metadata": {},
     "output_type": "execute_result"
    }
   ],
   "source": [
    "playtime_corr = correlation_matrix['playtime'].sort_values(ascending=False)\n",
    "playtime_corr"
   ]
  },
  {
   "cell_type": "code",
   "execution_count": 258,
   "id": "61891352",
   "metadata": {
    "collapsed": true
   },
   "outputs": [
    {
     "data": {
      "text/plain": [
       "survival_time          0.271866\n",
       "npc_kill               0.254132\n",
       "random_defender_cnt    0.204245\n",
       "char_num               0.168184\n",
       "etc_cnt                0.079045\n",
       "Name: playtime, dtype: float64"
      ]
     },
     "execution_count": 258,
     "metadata": {},
     "output_type": "execute_result"
    }
   ],
   "source": [
    "top5 = playtime_corr[1:6]\n",
    "top5"
   ]
  },
  {
   "cell_type": "code",
   "execution_count": 266,
   "id": "586edb16",
   "metadata": {},
   "outputs": [],
   "source": [
    "####회귀분석\n",
    "correlations = {}\n",
    "for column in df1.columns:\n",
    "    if column != 'playtime':\n",
    "        X = df1[[column]]\n",
    "        y = df1['playtime']\n",
    "        model = LinearRegression()\n",
    "        model.fit(X, y)\n",
    "        correlations[column] = model.coef_[0]"
   ]
  },
  {
   "cell_type": "code",
   "execution_count": 269,
   "id": "d8c19310",
   "metadata": {
    "collapsed": true
   },
   "outputs": [
    {
     "data": {
      "text/plain": [
       "{'acc_id': -2.465806705627002e-06,\n",
       " 'survival_time': 0.38368574625198587,\n",
       " 'amount_spent': -3.3371175400041273,\n",
       " 'char_num': 0.19954445669481563,\n",
       " 'death': 0.35339348428690104,\n",
       " 'enchant_count': -0.9308132449868,\n",
       " 'npc_kill': 13.087262498096333,\n",
       " 'revive': -0.07715288534544398,\n",
       " 'total_exp': -3.654871118246855,\n",
       " 'level_min': -0.05314536378722331,\n",
       " 'level_max': -1.9638841168327879,\n",
       " 'etc_cnt': 3.8338170765276174,\n",
       " 'num_opponent': 2.3490708282127297,\n",
       " 'pledge_cnt': 3.333547282804704,\n",
       " 'random_attacker_cnt': -2.9707676750422145,\n",
       " 'random_defender_cnt': 17.080348568359028,\n",
       " 'same_pledge_cnt': -6.018200025623403,\n",
       " 'temp_cnt': 1.4725689310543624}"
      ]
     },
     "execution_count": 269,
     "metadata": {},
     "output_type": "execute_result"
    }
   ],
   "source": [
    "correlations"
   ]
  },
  {
   "cell_type": "markdown",
   "id": "37680dd4",
   "metadata": {},
   "source": [
    "---"
   ]
  },
  {
   "cell_type": "markdown",
   "id": "168483a2",
   "metadata": {},
   "source": [
    "9. 군집 분석을 활용하여, 유저들을 총 4개의 군집으로 도출해, 해당 군집별로 유저들의 주요활동 및 전투활동에 대한 특징을 찾아 기술하시오.\n",
    "    - 예시)\n",
    "        - 1번 군집은 혈맹 전투를 주로 즐겨하는 유저들이고, 많이 죽으며, 아이템 거래량이 낮다 -> 주로 공성전을 많이 하는 유저들이다.\n",
    "        - 2번군집은 개인 사냥을 통해 얻는 경험치가 많은 그룹이고, 죽은 횟수와 소생 횟수가 낮다 -> 주로 스토리/ 개인 사냥을 많이 하는 유저들이다."
   ]
  },
  {
   "cell_type": "code",
   "execution_count": 279,
   "id": "341b6ca4",
   "metadata": {},
   "outputs": [],
   "source": [
    "from sklearn.cluster import KMeans\n",
    "from sklearn.preprocessing import OneHotEncoder"
   ]
  },
  {
   "cell_type": "code",
   "execution_count": 277,
   "id": "a44bd3e3",
   "metadata": {},
   "outputs": [],
   "source": [
    "col_list = df1.columns[1:]"
   ]
  },
  {
   "cell_type": "code",
   "execution_count": 305,
   "id": "978ce782",
   "metadata": {},
   "outputs": [
    {
     "data": {
      "text/plain": [
       "Index(['survival_time', 'amount_spent', 'char_num', 'playtime', 'death',\n",
       "       'enchant_count', 'npc_kill', 'revive', 'total_exp', 'level_min',\n",
       "       'level_max', 'etc_cnt', 'num_opponent', 'pledge_cnt',\n",
       "       'random_attacker_cnt', 'random_defender_cnt', 'same_pledge_cnt',\n",
       "       'temp_cnt'],\n",
       "      dtype='object')"
      ]
     },
     "execution_count": 305,
     "metadata": {},
     "output_type": "execute_result"
    }
   ],
   "source": [
    "col_list"
   ]
  },
  {
   "cell_type": "code",
   "execution_count": 283,
   "id": "f2af5656",
   "metadata": {
    "collapsed": true
   },
   "outputs": [
    {
     "data": {
      "text/plain": [
       "0        0\n",
       "1        2\n",
       "2        0\n",
       "3        2\n",
       "4        1\n",
       "        ..\n",
       "39995    0\n",
       "39996    0\n",
       "39997    0\n",
       "39998    1\n",
       "39999    0\n",
       "Name: C4, Length: 40000, dtype: object"
      ]
     },
     "execution_count": 283,
     "metadata": {},
     "output_type": "execute_result"
    }
   ],
   "source": [
    "cluster = KMeans(n_clusters=4, max_iter=100)\n",
    "df1['C4'] = cluster.fit_predict(df1[col_list]).astype(str)\n",
    "df1['C4']"
   ]
  },
  {
   "cell_type": "code",
   "execution_count": 297,
   "id": "0b35e1e1",
   "metadata": {},
   "outputs": [],
   "source": [
    "cluster_0 = df1[df1['C4'] == '0']\n",
    "cluster_1 = df1[df1['C4'] == '1']\n",
    "cluster_2 = df1[df1['C4'] == '2']\n",
    "cluster_3 = df1[df1['C4'] == '3']"
   ]
  },
  {
   "cell_type": "code",
   "execution_count": 313,
   "id": "213d0283",
   "metadata": {
    "collapsed": true
   },
   "outputs": [
    {
     "name": "stdout",
     "output_type": "stream",
     "text": [
      "0.0956037289415429\n",
      "0.25242059998140465\n",
      "0.07150366713032645\n",
      "0.07602766104944099\n"
     ]
    }
   ],
   "source": [
    "print(cluster_0['amount_spent'].mean())\n",
    "print(cluster_1['amount_spent'].mean())\n",
    "print(cluster_2['amount_spent'].mean())\n",
    "print(cluster_3['amount_spent'].mean())"
   ]
  },
  {
   "cell_type": "code",
   "execution_count": 314,
   "id": "3df84f30",
   "metadata": {},
   "outputs": [
    {
     "name": "stdout",
     "output_type": "stream",
     "text": [
      "0.27052940850111246\n",
      "0.1680550676531287\n",
      "0.2545314495155393\n",
      "0.19246206868923849\n"
     ]
    }
   ],
   "source": [
    "print(cluster_0['num_opponent'].mean())\n",
    "print(cluster_1['num_opponent'].mean())\n",
    "print(cluster_2['num_opponent'].mean())\n",
    "print(cluster_3['num_opponent'].mean())"
   ]
  },
  {
   "cell_type": "markdown",
   "id": "66c71a81",
   "metadata": {},
   "source": [
    "- 클러스터 0 : 잔존기간이 높음/전투 상대 캐릭터 수가 많음/\n",
    "- 클러스터 1 : 잔존기간이 낮음/일일평균결제금액이 높음/\n",
    "- 클러스터 2 : 잔존기간이 높음/\n",
    "- 클러스터 3 : 잔존기간이 낮음/"
   ]
  },
  {
   "cell_type": "markdown",
   "id": "21d33b3f",
   "metadata": {},
   "source": [
    "---"
   ]
  },
  {
   "cell_type": "markdown",
   "id": "b9150a66",
   "metadata": {},
   "source": [
    "---"
   ]
  },
  {
   "cell_type": "markdown",
   "id": "4347b0b7",
   "metadata": {},
   "source": [
    "24_Data.csv 를 활용해 아래의 미션을 수행"
   ]
  },
  {
   "cell_type": "markdown",
   "id": "70eb5f2d",
   "metadata": {},
   "source": [
    "1. 앞서 가져온 기업 평가 데이터에 대해 \"기업한줄평\"을 입력했을 때, 해당 기업을 추천하는지, 비추천하는지 판별하는 모델을 Sckikt Learn의 머신러닝알고리즘을 이용해 구성하시오.\n",
    "    - Text데이터는 Text to Sequence 와 Padding 기법으로 처리\n",
    "    - 특성공학 기법을 반드시 사용\n",
    "    - 학습 / 일반화 성능 평가 실시"
   ]
  },
  {
   "cell_type": "code",
   "execution_count": 325,
   "id": "cdac983b",
   "metadata": {},
   "outputs": [],
   "source": [
    "df5 = pd.read_csv('24_Data.csv')"
   ]
  },
  {
   "cell_type": "code",
   "execution_count": 315,
   "id": "8041dc93",
   "metadata": {
    "collapsed": true
   },
   "outputs": [
    {
     "data": {
      "text/html": [
       "<div>\n",
       "<style scoped>\n",
       "    .dataframe tbody tr th:only-of-type {\n",
       "        vertical-align: middle;\n",
       "    }\n",
       "\n",
       "    .dataframe tbody tr th {\n",
       "        vertical-align: top;\n",
       "    }\n",
       "\n",
       "    .dataframe thead th {\n",
       "        text-align: right;\n",
       "    }\n",
       "</style>\n",
       "<table border=\"1\" class=\"dataframe\">\n",
       "  <thead>\n",
       "    <tr style=\"text-align: right;\">\n",
       "      <th></th>\n",
       "      <th>Unnamed: 0</th>\n",
       "      <th>직무</th>\n",
       "      <th>재직상태</th>\n",
       "      <th>근무지</th>\n",
       "      <th>작성년도</th>\n",
       "      <th>작성월</th>\n",
       "      <th>기업한줄평</th>\n",
       "      <th>기업장점</th>\n",
       "      <th>기업단점</th>\n",
       "      <th>경영진희망사항</th>\n",
       "      <th>기업추천여부</th>\n",
       "      <th>추천수</th>\n",
       "    </tr>\n",
       "  </thead>\n",
       "  <tbody>\n",
       "    <tr>\n",
       "      <th>0</th>\n",
       "      <td>0</td>\n",
       "      <td>기획/경영</td>\n",
       "      <td>전직원</td>\n",
       "      <td>서울</td>\n",
       "      <td>2024</td>\n",
       "      <td>3</td>\n",
       "      <td>\"부서 by 부서, 팀장 by 팀장으로 근무환경이 달라지는 곳\"</td>\n",
       "      <td>사람 by 사람이 심하겠지만, 배울 점이 많은 분들 밑에서 일했습니다. 휴게실, 점...</td>\n",
       "      <td>사람 by 사람이 심한만큼, 배울 점이 많은 분들만 있는 것은 아니었습니다. 업무량...</td>\n",
       "      <td>일하는만큼 상응하는 연봉을 받고 싶습니다.</td>\n",
       "      <td>추천</td>\n",
       "      <td>0</td>\n",
       "    </tr>\n",
       "    <tr>\n",
       "      <th>1</th>\n",
       "      <td>1</td>\n",
       "      <td>특수계층/공공</td>\n",
       "      <td>전직원</td>\n",
       "      <td>서울</td>\n",
       "      <td>2024</td>\n",
       "      <td>2</td>\n",
       "      <td>\"과거에 비해 안좋아졌지만 그래도 괜찮은  회사\"</td>\n",
       "      <td>인력  구성이  훌륭하고  사회에  이바지할  수  있다.</td>\n",
       "      <td>공공기관 특성상 상방의 한계가 뚜렷하고 급여나 복지나 부족하다.</td>\n",
       "      <td>우수 인력의 이탈을 막기 위해서는 특단의 조치가 필요</td>\n",
       "      <td>추천</td>\n",
       "      <td>0</td>\n",
       "    </tr>\n",
       "    <tr>\n",
       "      <th>2</th>\n",
       "      <td>2</td>\n",
       "      <td>특수계층/공공</td>\n",
       "      <td>현직원</td>\n",
       "      <td>서울</td>\n",
       "      <td>2024</td>\n",
       "      <td>1</td>\n",
       "      <td>\"여러 장단점이 있긴 한데 장점이 더 많아보입니다.\"</td>\n",
       "      <td>우수한 인력, 공공에 기여한다는 자부심, 업무에 대한 경험</td>\n",
       "      <td>이에 따라가지 못하는 복지, 앞으로 더 안좋아질것으로 보이는 몇몇 요소들</td>\n",
       "      <td>좋은 회사가 될 수 있도록 노력해주세요</td>\n",
       "      <td>비추천</td>\n",
       "      <td>0</td>\n",
       "    </tr>\n",
       "    <tr>\n",
       "      <th>3</th>\n",
       "      <td>3</td>\n",
       "      <td>특수계층/공공</td>\n",
       "      <td>전직원</td>\n",
       "      <td>서울</td>\n",
       "      <td>2024</td>\n",
       "      <td>1</td>\n",
       "      <td>\"대외 인지도에 비해 실제로 느끼는 업무 만족도가 많이 떨어짐\"</td>\n",
       "      <td>대외 인지도, 서울 여의도 고정근무(파견 2년 제외), 감독당국으로서의 권한</td>\n",
       "      <td>금융권에 비해 현저히 낮은 보수, 전문성 개발의 어려움, 금융위와의 관계로 인한 권...</td>\n",
       "      <td>열심히 일 하고 좋은 성과를 낸 직원에게 충분한 보상이 이뤄지는 인센티브 체계 구축 필요</td>\n",
       "      <td>추천</td>\n",
       "      <td>0</td>\n",
       "    </tr>\n",
       "    <tr>\n",
       "      <th>4</th>\n",
       "      <td>4</td>\n",
       "      <td>금융/재무</td>\n",
       "      <td>현직원</td>\n",
       "      <td>서울</td>\n",
       "      <td>2023</td>\n",
       "      <td>11</td>\n",
       "      <td>\"우수한 동료들이 많고 성장할 수 있는 곳\"</td>\n",
       "      <td>- 금융시장 전반을 경험할 수 있고, 우수한 동료들과 일하며 성장할 수 있음- 전반...</td>\n",
       "      <td>- 금융감독 업무 자체가 시장에 미치는 영향이 커 업무 수행에 일부 부담 존재</td>\n",
       "      <td>직원들 처우 개선 및 더 자부심을 갖고 일할 수 있는 환경 조성</td>\n",
       "      <td>추천</td>\n",
       "      <td>0</td>\n",
       "    </tr>\n",
       "    <tr>\n",
       "      <th>...</th>\n",
       "      <td>...</td>\n",
       "      <td>...</td>\n",
       "      <td>...</td>\n",
       "      <td>...</td>\n",
       "      <td>...</td>\n",
       "      <td>...</td>\n",
       "      <td>...</td>\n",
       "      <td>...</td>\n",
       "      <td>...</td>\n",
       "      <td>...</td>\n",
       "      <td>...</td>\n",
       "      <td>...</td>\n",
       "    </tr>\n",
       "    <tr>\n",
       "      <th>75</th>\n",
       "      <td>75</td>\n",
       "      <td>특수계층/공공</td>\n",
       "      <td>현직원</td>\n",
       "      <td>서울</td>\n",
       "      <td>2016</td>\n",
       "      <td>1</td>\n",
       "      <td>\"조직문화가 너무 보수적이고 업무강도 높음\"</td>\n",
       "      <td>급여나 복지는 동종업계 최고 수준은 아니지만 좋은 편이고 공공을 위해 일한다는 자부...</td>\n",
       "      <td>조직 문화가 수직적이고 보수적이며 승진이 굉장히 늦고 업무 강도가 너무 높다</td>\n",
       "      <td>직원들의 불만에 귀기울어줬으면 좋겠고 딱딱한 회사 문화를 바꿔주면 좋겠다</td>\n",
       "      <td>비추천</td>\n",
       "      <td>0</td>\n",
       "    </tr>\n",
       "    <tr>\n",
       "      <th>76</th>\n",
       "      <td>76</td>\n",
       "      <td>교육</td>\n",
       "      <td>전직원</td>\n",
       "      <td>서울</td>\n",
       "      <td>2015</td>\n",
       "      <td>1</td>\n",
       "      <td>\"안정적이지만 화려한 미래를 꿈꾸기엔 부족\"</td>\n",
       "      <td>대기업 수준의 급여수준, 보람과 자부심, 정년보장</td>\n",
       "      <td>퇴사후 금융사 취업 금지로 이직이 제한적,</td>\n",
       "      <td>NaN</td>\n",
       "      <td>추천</td>\n",
       "      <td>10</td>\n",
       "    </tr>\n",
       "    <tr>\n",
       "      <th>77</th>\n",
       "      <td>77</td>\n",
       "      <td>전문직</td>\n",
       "      <td>현직원</td>\n",
       "      <td>서울</td>\n",
       "      <td>2015</td>\n",
       "      <td>1</td>\n",
       "      <td>\"경쟁이 치열하고 개인적인 분위기. 업무에 따라 만족도 천차만별. 2-3년 주기의 ...</td>\n",
       "      <td>급여 높은 편이고 업무에 대한 자부심</td>\n",
       "      <td>분위기 경쟁적. 치열. 성과평가 제대로안됨</td>\n",
       "      <td>업무 기여 평가가 제대로 되어 그에 따른 보상이 적절해야함</td>\n",
       "      <td>추천</td>\n",
       "      <td>4</td>\n",
       "    </tr>\n",
       "    <tr>\n",
       "      <th>78</th>\n",
       "      <td>78</td>\n",
       "      <td>서비스/고객지원</td>\n",
       "      <td>전직원</td>\n",
       "      <td>광주</td>\n",
       "      <td>2014</td>\n",
       "      <td>10</td>\n",
       "      <td>\"현장실습생으로 근무를 해보았는데 정말 좋은 공기업이라고 생각됩니다\"</td>\n",
       "      <td>업무시간, 부서 분위기, 복지, 실적에 대한 부담이 없음</td>\n",
       "      <td>민원상담을 할 때 약간의 어려움이 있을 수도 있습니다. 민원팀에서 근무시</td>\n",
       "      <td>금소원의 분리가 필요하지 않은가 생각됩니다</td>\n",
       "      <td>추천</td>\n",
       "      <td>1</td>\n",
       "    </tr>\n",
       "    <tr>\n",
       "      <th>79</th>\n",
       "      <td>79</td>\n",
       "      <td>기획/경영</td>\n",
       "      <td>현직원</td>\n",
       "      <td>서울</td>\n",
       "      <td>2014</td>\n",
       "      <td>7</td>\n",
       "      <td>\"외부에서는 권력기관 정작 내부에서는 불만의 아우성\"</td>\n",
       "      <td>금융산업을 위해 무언가를 하고 있다는 자부심</td>\n",
       "      <td>보고서를 위한 보고서, 홍보를 위한 업무에만 몰두</td>\n",
       "      <td>외부에서 보이는 모습만 신경쓰지 말고 진정으로 우리나라 금융산업 발전을 위해서 힘쓰시길</td>\n",
       "      <td>비추천</td>\n",
       "      <td>8</td>\n",
       "    </tr>\n",
       "  </tbody>\n",
       "</table>\n",
       "<p>80 rows × 12 columns</p>\n",
       "</div>"
      ],
      "text/plain": [
       "    Unnamed: 0        직무 재직상태 근무지  작성년도  작성월  \\\n",
       "0            0     기획/경영  전직원  서울  2024    3   \n",
       "1            1   특수계층/공공  전직원  서울  2024    2   \n",
       "2            2   특수계층/공공  현직원  서울  2024    1   \n",
       "3            3   특수계층/공공  전직원  서울  2024    1   \n",
       "4            4     금융/재무  현직원  서울  2023   11   \n",
       "..         ...       ...  ...  ..   ...  ...   \n",
       "75          75   특수계층/공공  현직원  서울  2016    1   \n",
       "76          76        교육  전직원  서울  2015    1   \n",
       "77          77       전문직  현직원  서울  2015    1   \n",
       "78          78  서비스/고객지원  전직원  광주  2014   10   \n",
       "79          79     기획/경영  현직원  서울  2014    7   \n",
       "\n",
       "                                                기업한줄평  \\\n",
       "0                 \"부서 by 부서, 팀장 by 팀장으로 근무환경이 달라지는 곳\"   \n",
       "1                         \"과거에 비해 안좋아졌지만 그래도 괜찮은  회사\"   \n",
       "2                       \"여러 장단점이 있긴 한데 장점이 더 많아보입니다.\"   \n",
       "3                 \"대외 인지도에 비해 실제로 느끼는 업무 만족도가 많이 떨어짐\"   \n",
       "4                            \"우수한 동료들이 많고 성장할 수 있는 곳\"   \n",
       "..                                                ...   \n",
       "75                           \"조직문화가 너무 보수적이고 업무강도 높음\"   \n",
       "76                           \"안정적이지만 화려한 미래를 꿈꾸기엔 부족\"   \n",
       "77  \"경쟁이 치열하고 개인적인 분위기. 업무에 따라 만족도 천차만별. 2-3년 주기의 ...   \n",
       "78             \"현장실습생으로 근무를 해보았는데 정말 좋은 공기업이라고 생각됩니다\"   \n",
       "79                      \"외부에서는 권력기관 정작 내부에서는 불만의 아우성\"   \n",
       "\n",
       "                                                 기업장점  \\\n",
       "0   사람 by 사람이 심하겠지만, 배울 점이 많은 분들 밑에서 일했습니다. 휴게실, 점...   \n",
       "1                    인력  구성이  훌륭하고  사회에  이바지할  수  있다.   \n",
       "2                    우수한 인력, 공공에 기여한다는 자부심, 업무에 대한 경험   \n",
       "3          대외 인지도, 서울 여의도 고정근무(파견 2년 제외), 감독당국으로서의 권한   \n",
       "4   - 금융시장 전반을 경험할 수 있고, 우수한 동료들과 일하며 성장할 수 있음- 전반...   \n",
       "..                                                ...   \n",
       "75  급여나 복지는 동종업계 최고 수준은 아니지만 좋은 편이고 공공을 위해 일한다는 자부...   \n",
       "76                        대기업 수준의 급여수준, 보람과 자부심, 정년보장   \n",
       "77                               급여 높은 편이고 업무에 대한 자부심   \n",
       "78                    업무시간, 부서 분위기, 복지, 실적에 대한 부담이 없음   \n",
       "79                           금융산업을 위해 무언가를 하고 있다는 자부심   \n",
       "\n",
       "                                                 기업단점  \\\n",
       "0   사람 by 사람이 심한만큼, 배울 점이 많은 분들만 있는 것은 아니었습니다. 업무량...   \n",
       "1                 공공기관 특성상 상방의 한계가 뚜렷하고 급여나 복지나 부족하다.   \n",
       "2            이에 따라가지 못하는 복지, 앞으로 더 안좋아질것으로 보이는 몇몇 요소들   \n",
       "3   금융권에 비해 현저히 낮은 보수, 전문성 개발의 어려움, 금융위와의 관계로 인한 권...   \n",
       "4         - 금융감독 업무 자체가 시장에 미치는 영향이 커 업무 수행에 일부 부담 존재   \n",
       "..                                                ...   \n",
       "75         조직 문화가 수직적이고 보수적이며 승진이 굉장히 늦고 업무 강도가 너무 높다   \n",
       "76                            퇴사후 금융사 취업 금지로 이직이 제한적,   \n",
       "77                            분위기 경쟁적. 치열. 성과평가 제대로안됨   \n",
       "78           민원상담을 할 때 약간의 어려움이 있을 수도 있습니다. 민원팀에서 근무시   \n",
       "79                        보고서를 위한 보고서, 홍보를 위한 업무에만 몰두   \n",
       "\n",
       "                                              경영진희망사항 기업추천여부  추천수  \n",
       "0                             일하는만큼 상응하는 연봉을 받고 싶습니다.     추천    0  \n",
       "1                       우수 인력의 이탈을 막기 위해서는 특단의 조치가 필요     추천    0  \n",
       "2                               좋은 회사가 될 수 있도록 노력해주세요    비추천    0  \n",
       "3   열심히 일 하고 좋은 성과를 낸 직원에게 충분한 보상이 이뤄지는 인센티브 체계 구축 필요     추천    0  \n",
       "4                 직원들 처우 개선 및 더 자부심을 갖고 일할 수 있는 환경 조성     추천    0  \n",
       "..                                                ...    ...  ...  \n",
       "75           직원들의 불만에 귀기울어줬으면 좋겠고 딱딱한 회사 문화를 바꿔주면 좋겠다    비추천    0  \n",
       "76                                                NaN     추천   10  \n",
       "77                   업무 기여 평가가 제대로 되어 그에 따른 보상이 적절해야함     추천    4  \n",
       "78                            금소원의 분리가 필요하지 않은가 생각됩니다     추천    1  \n",
       "79   외부에서 보이는 모습만 신경쓰지 말고 진정으로 우리나라 금융산업 발전을 위해서 힘쓰시길    비추천    8  \n",
       "\n",
       "[80 rows x 12 columns]"
      ]
     },
     "execution_count": 315,
     "metadata": {},
     "output_type": "execute_result"
    }
   ],
   "source": [
    "df5"
   ]
  },
  {
   "cell_type": "code",
   "execution_count": 316,
   "id": "747c4652",
   "metadata": {
    "collapsed": true
   },
   "outputs": [
    {
     "data": {
      "text/plain": [
       "Index(['Unnamed: 0', '직무', '재직상태', '근무지', '작성년도', '작성월', '기업한줄평', '기업장점',\n",
       "       '기업단점', '경영진희망사항', '기업추천여부', '추천수'],\n",
       "      dtype='object')"
      ]
     },
     "execution_count": 316,
     "metadata": {},
     "output_type": "execute_result"
    }
   ],
   "source": [
    "df5.columns"
   ]
  },
  {
   "cell_type": "code",
   "execution_count": 326,
   "id": "1182e5ec",
   "metadata": {},
   "outputs": [],
   "source": [
    "df6 =df5[['기업한줄평','기업추천여부']]"
   ]
  },
  {
   "cell_type": "code",
   "execution_count": 329,
   "id": "42ccd7ed",
   "metadata": {
    "collapsed": true
   },
   "outputs": [
    {
     "name": "stderr",
     "output_type": "stream",
     "text": [
      "/var/folders/q9/51yx3nc91mq6crjc81y6g1wm0000gn/T/ipykernel_4172/1961419038.py:1: SettingWithCopyWarning:\n",
      "\n",
      "\n",
      "A value is trying to be set on a copy of a slice from a DataFrame.\n",
      "Try using .loc[row_indexer,col_indexer] = value instead\n",
      "\n",
      "See the caveats in the documentation: https://pandas.pydata.org/pandas-docs/stable/user_guide/indexing.html#returning-a-view-versus-a-copy\n",
      "\n"
     ]
    },
    {
     "data": {
      "text/plain": [
       "Target\n",
       "1    61\n",
       "0    19\n",
       "Name: count, dtype: int64"
      ]
     },
     "execution_count": 329,
     "metadata": {},
     "output_type": "execute_result"
    }
   ],
   "source": [
    "df6['Target'] = df6['기업추천여부'].replace({'추천':1, '비추천':0})\n",
    "df6['Target'].value_counts()"
   ]
  },
  {
   "cell_type": "code",
   "execution_count": 333,
   "id": "613f369b",
   "metadata": {},
   "outputs": [],
   "source": [
    "X = df6[['기업한줄평']]\n",
    "Y = df6['Target']"
   ]
  },
  {
   "cell_type": "code",
   "execution_count": 334,
   "id": "a5e0d5fb",
   "metadata": {},
   "outputs": [],
   "source": [
    "X_train, X_test, Y_train, Y_test = train_test_split(X,Y,test_size=0.3,\n",
    "                                                   random_state=1234)"
   ]
  },
  {
   "cell_type": "code",
   "execution_count": 335,
   "id": "eab051b5",
   "metadata": {},
   "outputs": [],
   "source": [
    "from konlpy.tag import Okt\n",
    "import re"
   ]
  },
  {
   "cell_type": "code",
   "execution_count": 336,
   "id": "7e1c57d6",
   "metadata": {},
   "outputs": [],
   "source": [
    "okt = Okt()"
   ]
  },
  {
   "cell_type": "code",
   "execution_count": 337,
   "id": "994b6d72",
   "metadata": {},
   "outputs": [],
   "source": [
    "clean_word_train = [] # 텍스트가 처리된 결과를 리스트에 지정\n",
    "for i in X_train['기업한줄평']:\n",
    "    # 특수문자 처리 (정규 표현식)\n",
    "    review_txt = re.sub(r\"\\W+\", \" \", i) \n",
    "    # 문자를 제외한 한 글자 이상의 문자열을 제거(공백 값으로 바꿈)\n",
    "    \n",
    "    word_txt = okt.morphs(review_txt, stem=True)\n",
    "    # 앞서 특수문자가 처리된 문장을 형태소 단위로 분할\n",
    "    \n",
    "    word_txt2 = [x for x in word_txt if not x in set(['을','를','수','것'])]\n",
    "    # 불용어 처리\n",
    "    \n",
    "    clean_word_train.append(word_txt2)"
   ]
  },
  {
   "cell_type": "code",
   "execution_count": 338,
   "id": "bf6cc84f",
   "metadata": {},
   "outputs": [],
   "source": [
    "# 뷸용어 처리 및 특수문자 제거\n",
    "clean_word_test = [] # 텍스트가 처리된 결과를 리스트에 지정\n",
    "for i in X_test['기업한줄평']:\n",
    "    # 특수문자 처리 (정규 표현식)\n",
    "    review_txt = re.sub(r\"\\W+\", \" \", i) \n",
    "    # 문자를 제외한 한 글자 이상의 문자열을 제거(공백 값으로 바꿈)\n",
    "    \n",
    "    word_txt = okt.morphs(review_txt, stem=True)\n",
    "    # 앞서 특수문자가 처리된 문장을 형태소 단위로 분할\n",
    "    \n",
    "    word_txt2 = [x for x in word_txt if not x in set(['을','를','수','것'])]\n",
    "    # 불용어 처리\n",
    "    \n",
    "    clean_word_test.append(word_txt2)"
   ]
  },
  {
   "cell_type": "code",
   "execution_count": 339,
   "id": "875e21ef",
   "metadata": {},
   "outputs": [],
   "source": [
    "# 라벨링과 패딩(Padding)에 필요한 라이브러리를 호출\n",
    "from tensorflow.keras.preprocessing.text   import Tokenizer\n",
    "from keras.preprocessing.sequence import pad_sequences"
   ]
  },
  {
   "cell_type": "code",
   "execution_count": 340,
   "id": "57161a48",
   "metadata": {},
   "outputs": [],
   "source": [
    "# 문자를 하나의 정수로 Labeling(Label Encoding)\n",
    "token_model = Tokenizer()\n",
    "token_model.fit_on_texts(clean_word_train)\n",
    "train_seq = token_model.texts_to_sequences(clean_word_train)\n",
    "test_seq = token_model.texts_to_sequences(clean_word_test)"
   ]
  },
  {
   "cell_type": "code",
   "execution_count": 341,
   "id": "06117683",
   "metadata": {},
   "outputs": [
    {
     "data": {
      "text/plain": [
       "(56, 80)"
      ]
     },
     "execution_count": 341,
     "metadata": {},
     "output_type": "execute_result"
    }
   ],
   "source": [
    "# 숫자로 바뀐 텍스트의 리스트를 Padding 기법을 이용해 Matrix로 변환\n",
    "x_train_vec = pad_sequences(train_seq, maxlen=80, padding='post')\n",
    "# maxlen 숫자로 바뀐 문장의 최대 길이 (최대 단어(형태소) 수)\n",
    "x_train_vec.shape"
   ]
  },
  {
   "cell_type": "code",
   "execution_count": 342,
   "id": "9d3729fa",
   "metadata": {},
   "outputs": [],
   "source": [
    "x_test_vec = pad_sequences(test_seq, maxlen=80, padding='post')"
   ]
  },
  {
   "cell_type": "code",
   "execution_count": 343,
   "id": "8d13c77f",
   "metadata": {},
   "outputs": [],
   "source": [
    "from keras.layers import SimpleRNN\n",
    "from keras.layers import Embedding"
   ]
  },
  {
   "cell_type": "code",
   "execution_count": 347,
   "id": "ca10455c",
   "metadata": {
    "collapsed": true
   },
   "outputs": [
    {
     "name": "stdout",
     "output_type": "stream",
     "text": [
      "Epoch 1/30\n",
      "\u001b[1m2/2\u001b[0m \u001b[32m━━━━━━━━━━━━━━━━━━━━\u001b[0m\u001b[37m\u001b[0m \u001b[1m3s\u001b[0m 973ms/step - accuracy: 0.2780 - loss: 0.7039 - val_accuracy: 0.3529 - val_loss: 0.7032\n",
      "Epoch 2/30\n",
      "\u001b[1m2/2\u001b[0m \u001b[32m━━━━━━━━━━━━━━━━━━━━\u001b[0m\u001b[37m\u001b[0m \u001b[1m0s\u001b[0m 18ms/step - accuracy: 0.5807 - loss: 0.6620 - val_accuracy: 0.7059 - val_loss: 0.6743\n",
      "Epoch 3/30\n",
      "\u001b[1m2/2\u001b[0m \u001b[32m━━━━━━━━━━━━━━━━━━━━\u001b[0m\u001b[37m\u001b[0m \u001b[1m0s\u001b[0m 21ms/step - accuracy: 0.8387 - loss: 0.6312 - val_accuracy: 0.7059 - val_loss: 0.6485\n",
      "Epoch 4/30\n",
      "\u001b[1m2/2\u001b[0m \u001b[32m━━━━━━━━━━━━━━━━━━━━\u001b[0m\u001b[37m\u001b[0m \u001b[1m0s\u001b[0m 19ms/step - accuracy: 0.8178 - loss: 0.5817 - val_accuracy: 0.7059 - val_loss: 0.6398\n",
      "Epoch 5/30\n",
      "\u001b[1m2/2\u001b[0m \u001b[32m━━━━━━━━━━━━━━━━━━━━\u001b[0m\u001b[37m\u001b[0m \u001b[1m0s\u001b[0m 20ms/step - accuracy: 0.8178 - loss: 0.5511 - val_accuracy: 0.7059 - val_loss: 0.6296\n",
      "Epoch 6/30\n",
      "\u001b[1m2/2\u001b[0m \u001b[32m━━━━━━━━━━━━━━━━━━━━\u001b[0m\u001b[37m\u001b[0m \u001b[1m0s\u001b[0m 22ms/step - accuracy: 0.8178 - loss: 0.5219 - val_accuracy: 0.7059 - val_loss: 0.6227\n",
      "Epoch 7/30\n",
      "\u001b[1m2/2\u001b[0m \u001b[32m━━━━━━━━━━━━━━━━━━━━\u001b[0m\u001b[37m\u001b[0m \u001b[1m0s\u001b[0m 19ms/step - accuracy: 0.8283 - loss: 0.5143 - val_accuracy: 0.7059 - val_loss: 0.6221\n",
      "Epoch 8/30\n",
      "\u001b[1m2/2\u001b[0m \u001b[32m━━━━━━━━━━━━━━━━━━━━\u001b[0m\u001b[37m\u001b[0m \u001b[1m0s\u001b[0m 18ms/step - accuracy: 0.8283 - loss: 0.4910 - val_accuracy: 0.7059 - val_loss: 0.6290\n",
      "Epoch 9/30\n",
      "\u001b[1m2/2\u001b[0m \u001b[32m━━━━━━━━━━━━━━━━━━━━\u001b[0m\u001b[37m\u001b[0m \u001b[1m0s\u001b[0m 19ms/step - accuracy: 0.8283 - loss: 0.4451 - val_accuracy: 0.7059 - val_loss: 0.6407\n",
      "Epoch 10/30\n",
      "\u001b[1m2/2\u001b[0m \u001b[32m━━━━━━━━━━━━━━━━━━━━\u001b[0m\u001b[37m\u001b[0m \u001b[1m0s\u001b[0m 20ms/step - accuracy: 0.8178 - loss: 0.4020 - val_accuracy: 0.7059 - val_loss: 0.6530\n",
      "Epoch 11/30\n",
      "\u001b[1m2/2\u001b[0m \u001b[32m━━━━━━━━━━━━━━━━━━━━\u001b[0m\u001b[37m\u001b[0m \u001b[1m0s\u001b[0m 19ms/step - accuracy: 0.8178 - loss: 0.3775 - val_accuracy: 0.7059 - val_loss: 0.6600\n",
      "Epoch 12/30\n",
      "\u001b[1m2/2\u001b[0m \u001b[32m━━━━━━━━━━━━━━━━━━━━\u001b[0m\u001b[37m\u001b[0m \u001b[1m0s\u001b[0m 20ms/step - accuracy: 0.8283 - loss: 0.3606 - val_accuracy: 0.7059 - val_loss: 0.6651\n",
      "Epoch 13/30\n",
      "\u001b[1m2/2\u001b[0m \u001b[32m━━━━━━━━━━━━━━━━━━━━\u001b[0m\u001b[37m\u001b[0m \u001b[1m0s\u001b[0m 20ms/step - accuracy: 0.8558 - loss: 0.3459 - val_accuracy: 0.6471 - val_loss: 0.6736\n",
      "Epoch 14/30\n",
      "\u001b[1m2/2\u001b[0m \u001b[32m━━━━━━━━━━━━━━━━━━━━\u001b[0m\u001b[37m\u001b[0m \u001b[1m0s\u001b[0m 19ms/step - accuracy: 0.9450 - loss: 0.2831 - val_accuracy: 0.6471 - val_loss: 0.6999\n",
      "Epoch 15/30\n",
      "\u001b[1m2/2\u001b[0m \u001b[32m━━━━━━━━━━━━━━━━━━━━\u001b[0m\u001b[37m\u001b[0m \u001b[1m0s\u001b[0m 20ms/step - accuracy: 0.9725 - loss: 0.2866 - val_accuracy: 0.6471 - val_loss: 0.7201\n",
      "Epoch 16/30\n",
      "\u001b[1m2/2\u001b[0m \u001b[32m━━━━━━━━━━━━━━━━━━━━\u001b[0m\u001b[37m\u001b[0m \u001b[1m0s\u001b[0m 19ms/step - accuracy: 1.0000 - loss: 0.2477 - val_accuracy: 0.6471 - val_loss: 0.7282\n",
      "Epoch 17/30\n",
      "\u001b[1m2/2\u001b[0m \u001b[32m━━━━━━━━━━━━━━━━━━━━\u001b[0m\u001b[37m\u001b[0m \u001b[1m0s\u001b[0m 21ms/step - accuracy: 1.0000 - loss: 0.2269 - val_accuracy: 0.6471 - val_loss: 0.7591\n",
      "Epoch 18/30\n",
      "\u001b[1m2/2\u001b[0m \u001b[32m━━━━━━━━━━━━━━━━━━━━\u001b[0m\u001b[37m\u001b[0m \u001b[1m0s\u001b[0m 19ms/step - accuracy: 1.0000 - loss: 0.2054 - val_accuracy: 0.6471 - val_loss: 0.7777\n",
      "Epoch 19/30\n",
      "\u001b[1m2/2\u001b[0m \u001b[32m━━━━━━━━━━━━━━━━━━━━\u001b[0m\u001b[37m\u001b[0m \u001b[1m0s\u001b[0m 19ms/step - accuracy: 1.0000 - loss: 0.1842 - val_accuracy: 0.6471 - val_loss: 0.7747\n",
      "Epoch 20/30\n",
      "\u001b[1m2/2\u001b[0m \u001b[32m━━━━━━━━━━━━━━━━━━━━\u001b[0m\u001b[37m\u001b[0m \u001b[1m0s\u001b[0m 35ms/step - accuracy: 1.0000 - loss: 0.1696 - val_accuracy: 0.6471 - val_loss: 0.7946\n",
      "Epoch 21/30\n",
      "\u001b[1m2/2\u001b[0m \u001b[32m━━━━━━━━━━━━━━━━━━━━\u001b[0m\u001b[37m\u001b[0m \u001b[1m0s\u001b[0m 20ms/step - accuracy: 1.0000 - loss: 0.1476 - val_accuracy: 0.6471 - val_loss: 0.8369\n",
      "Epoch 22/30\n",
      "\u001b[1m2/2\u001b[0m \u001b[32m━━━━━━━━━━━━━━━━━━━━\u001b[0m\u001b[37m\u001b[0m \u001b[1m0s\u001b[0m 19ms/step - accuracy: 1.0000 - loss: 0.1305 - val_accuracy: 0.6471 - val_loss: 0.8500\n",
      "Epoch 23/30\n",
      "\u001b[1m2/2\u001b[0m \u001b[32m━━━━━━━━━━━━━━━━━━━━\u001b[0m\u001b[37m\u001b[0m \u001b[1m0s\u001b[0m 20ms/step - accuracy: 1.0000 - loss: 0.1160 - val_accuracy: 0.6471 - val_loss: 0.8424\n",
      "Epoch 24/30\n",
      "\u001b[1m2/2\u001b[0m \u001b[32m━━━━━━━━━━━━━━━━━━━━\u001b[0m\u001b[37m\u001b[0m \u001b[1m0s\u001b[0m 20ms/step - accuracy: 1.0000 - loss: 0.1082 - val_accuracy: 0.7059 - val_loss: 0.8664\n",
      "Epoch 25/30\n",
      "\u001b[1m2/2\u001b[0m \u001b[32m━━━━━━━━━━━━━━━━━━━━\u001b[0m\u001b[37m\u001b[0m \u001b[1m0s\u001b[0m 20ms/step - accuracy: 1.0000 - loss: 0.0932 - val_accuracy: 0.7059 - val_loss: 0.8904\n",
      "Epoch 26/30\n",
      "\u001b[1m2/2\u001b[0m \u001b[32m━━━━━━━━━━━━━━━━━━━━\u001b[0m\u001b[37m\u001b[0m \u001b[1m0s\u001b[0m 20ms/step - accuracy: 1.0000 - loss: 0.0910 - val_accuracy: 0.6471 - val_loss: 0.8919\n",
      "Epoch 27/30\n",
      "\u001b[1m2/2\u001b[0m \u001b[32m━━━━━━━━━━━━━━━━━━━━\u001b[0m\u001b[37m\u001b[0m \u001b[1m0s\u001b[0m 20ms/step - accuracy: 1.0000 - loss: 0.0799 - val_accuracy: 0.6471 - val_loss: 0.9005\n",
      "Epoch 28/30\n",
      "\u001b[1m2/2\u001b[0m \u001b[32m━━━━━━━━━━━━━━━━━━━━\u001b[0m\u001b[37m\u001b[0m \u001b[1m0s\u001b[0m 20ms/step - accuracy: 1.0000 - loss: 0.0764 - val_accuracy: 0.6471 - val_loss: 0.9252\n",
      "Epoch 29/30\n",
      "\u001b[1m2/2\u001b[0m \u001b[32m━━━━━━━━━━━━━━━━━━━━\u001b[0m\u001b[37m\u001b[0m \u001b[1m0s\u001b[0m 21ms/step - accuracy: 1.0000 - loss: 0.0683 - val_accuracy: 0.6471 - val_loss: 0.9433\n",
      "Epoch 30/30\n",
      "\u001b[1m2/2\u001b[0m \u001b[32m━━━━━━━━━━━━━━━━━━━━\u001b[0m\u001b[37m\u001b[0m \u001b[1m0s\u001b[0m 20ms/step - accuracy: 1.0000 - loss: 0.0612 - val_accuracy: 0.6471 - val_loss: 0.9580\n"
     ]
    },
    {
     "data": {
      "text/plain": [
       "<keras.src.callbacks.history.History at 0x33f832610>"
      ]
     },
     "execution_count": 347,
     "metadata": {},
     "output_type": "execute_result"
    }
   ],
   "source": [
    "model_RNN = Sequential()\n",
    "model_RNN.add(Embedding(10000,8))\n",
    "model_RNN.add(SimpleRNN(32))\n",
    "model_RNN.add(Dense(1, activation='sigmoid'))\n",
    "\n",
    "model_RNN.compile(optimizer='adam', loss='binary_crossentropy',\n",
    "                 metrics=['accuracy'])\n",
    "model_RNN.fit(x_train_vec, Y_train, epochs=30, validation_split=0.3)"
   ]
  },
  {
   "cell_type": "code",
   "execution_count": 348,
   "id": "6d24c058",
   "metadata": {
    "collapsed": true
   },
   "outputs": [
    {
     "name": "stdout",
     "output_type": "stream",
     "text": [
      "WARNING:tensorflow:6 out of the last 1260 calls to <function TensorFlowTrainer.make_predict_function.<locals>.one_step_on_data_distributed at 0x2c289f420> triggered tf.function retracing. Tracing is expensive and the excessive number of tracings could be due to (1) creating @tf.function repeatedly in a loop, (2) passing tensors with different shapes, (3) passing Python objects instead of tensors. For (1), please define your @tf.function outside of the loop. For (2), @tf.function has reduce_retracing=True option that can avoid unnecessary retracing. For (3), please refer to https://www.tensorflow.org/guide/function#controlling_retracing and https://www.tensorflow.org/api_docs/python/tf/function for  more details.\n",
      "\u001b[1m2/2\u001b[0m \u001b[32m━━━━━━━━━━━━━━━━━━━━\u001b[0m\u001b[37m\u001b[0m \u001b[1m0s\u001b[0m 69ms/step\n",
      "\u001b[1m1/1\u001b[0m \u001b[32m━━━━━━━━━━━━━━━━━━━━\u001b[0m\u001b[37m\u001b[0m \u001b[1m0s\u001b[0m 11ms/step\n"
     ]
    }
   ],
   "source": [
    "Y_train_pred = pd.Series(model_RNN.predict(x_train_vec).flatten()).apply(threshold_func)\n",
    "Y_test_pred = pd.Series(model_RNN.predict(x_test_vec).flatten()).apply(threshold_func)"
   ]
  },
  {
   "cell_type": "code",
   "execution_count": 349,
   "id": "e40a5e7f",
   "metadata": {},
   "outputs": [
    {
     "name": "stdout",
     "output_type": "stream",
     "text": [
      "              precision    recall  f1-score   support\n",
      "\n",
      "           0       0.88      0.58      0.70        12\n",
      "           1       0.90      0.98      0.93        44\n",
      "\n",
      "    accuracy                           0.89        56\n",
      "   macro avg       0.89      0.78      0.82        56\n",
      "weighted avg       0.89      0.89      0.88        56\n",
      "\n",
      "              precision    recall  f1-score   support\n",
      "\n",
      "           0       0.50      0.14      0.22         7\n",
      "           1       0.73      0.94      0.82        17\n",
      "\n",
      "    accuracy                           0.71        24\n",
      "   macro avg       0.61      0.54      0.52        24\n",
      "weighted avg       0.66      0.71      0.65        24\n",
      "\n"
     ]
    }
   ],
   "source": [
    "print(classification_report(Y_train, Y_train_pred))\n",
    "print(classification_report(Y_test, Y_test_pred))"
   ]
  },
  {
   "cell_type": "code",
   "execution_count": null,
   "id": "60eba2a3",
   "metadata": {},
   "outputs": [],
   "source": []
  }
 ],
 "metadata": {
  "kernelspec": {
   "display_name": "Python 3 (ipykernel)",
   "language": "python",
   "name": "python3"
  },
  "language_info": {
   "codemirror_mode": {
    "name": "ipython",
    "version": 3
   },
   "file_extension": ".py",
   "mimetype": "text/x-python",
   "name": "python",
   "nbconvert_exporter": "python",
   "pygments_lexer": "ipython3",
   "version": "3.11.5"
  },
  "toc": {
   "base_numbering": 1,
   "nav_menu": {},
   "number_sections": true,
   "sideBar": true,
   "skip_h1_title": false,
   "title_cell": "Table of Contents",
   "title_sidebar": "Contents",
   "toc_cell": false,
   "toc_position": {},
   "toc_section_display": true,
   "toc_window_display": false
  }
 },
 "nbformat": 4,
 "nbformat_minor": 5
}
